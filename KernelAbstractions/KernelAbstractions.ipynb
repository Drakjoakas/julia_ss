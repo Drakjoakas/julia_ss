{
 "cells": [
  {
   "cell_type": "markdown",
   "metadata": {},
   "source": [
    "# Kernel Abstractions\n",
    "\n",
    "El paquete `KernelAbstractions.jl` te permite escribir kernels similares a un kernel de GPU que se puede ejecutar en distintos dispositivos. Su intención es ser una biblioteca mínima con buen rendimiento que permita escribir código sencillo y heterogéneo. Es una alternativa a utilizar el paquete `CUDA.jl` que además permite ejecutar los mismos kernels en CPU y en GPU.\n",
    "\n",
    "El uso de kernels para GPU proviene del hecho de que hoy en día, el uso de tarjetas gráficas para cómputo científico ha demostrado ser bastante eficiente.\n",
    "\n",
    "## ¿Cómo programar un GPU?\n",
    "En general se hace debe tener esto en cuenta:\n",
    "* Modelo SPMD (_Single Process Multiple Data_)\n",
    "* Se programa con una perspectiva de **camino** (llamado hilo por Nvidia)\n",
    "* Un grupo de caminos se ejecutan de manera conjunta (warp/vector)\n",
    "* La ejecución se organiza en bloques/grupos que pueden acceder a recursos compartidos\n",
    "* La GPU se basan en el rendimiento\n",
    "* Se debe tener en cuenta la arquitectura de la memoria y el uso de ancho de banda al diseñar un kernel\n"
   ]
  },
  {
   "cell_type": "code",
   "execution_count": 1,
   "metadata": {},
   "outputs": [],
   "source": [
    "using KernelAbstractions, CUDAKernels\n",
    "using CUDA\n",
    "using Test"
   ]
  },
  {
   "cell_type": "markdown",
   "metadata": {},
   "source": [
    "Para escribir un kernel usando `KernelAbstractions.jl` es necesario declarar una función usando el macro `@kernel`"
   ]
  },
  {
   "cell_type": "code",
   "execution_count": 12,
   "metadata": {},
   "outputs": [
    {
     "data": {
      "text/plain": [
       "mul2 (generic function with 5 methods)"
      ]
     },
     "metadata": {},
     "output_type": "display_data"
    }
   ],
   "source": [
    "@kernel function mul2(A)\n",
    "    I = @index(Global)\n",
    "    A[I] = 2 * A[I]\n",
    "end"
   ]
  },
  {
   "cell_type": "markdown",
   "metadata": {},
   "source": [
    "Para lanzar el kernel es necesario invocar la función con el **primer parámetro** siendo el **dispositivo donde ejecutar el kernel**. El **segundo argumento** es el **tamaño del grupo de trabajo**, y el **tercero** es un rango `ndrange` estático. El segundo y tercer argumento son opcionales.\n",
    "\n",
    "Después de instanciar el kernel lo puedes lanzar llamando el kernel con los argumentos correctos y palabras clave para configurar el lanzamiento del kernel. El lanzamiento de los kernels es asíncrono, por lo que para ver los resultados es necesario _capturar el evento_ y _esperar a que termine_.\n",
    "\n",
    "El `ndrange` se parte en bloques, cada bloque es ejecutado por **un grupo de trabajo**. Por ejemplo, funciona bien para:\n",
    "* Grupo de trabajo = (4, 4)\n",
    "* ndrange = (16, 16)"
   ]
  },
  {
   "cell_type": "code",
   "execution_count": 4,
   "metadata": {},
   "outputs": [
    {
     "data": {
      "text/plain": [
       "32×32 Matrix{Float64}:\n",
       " 2.0  2.0  2.0  2.0  2.0  2.0  2.0  2.0  …  2.0  2.0  2.0  2.0  2.0  2.0  2.0\n",
       " 2.0  2.0  2.0  2.0  2.0  2.0  2.0  2.0     2.0  2.0  2.0  2.0  2.0  2.0  2.0\n",
       " 2.0  2.0  2.0  2.0  2.0  2.0  2.0  2.0     2.0  2.0  2.0  2.0  2.0  2.0  2.0\n",
       " 2.0  2.0  2.0  2.0  2.0  2.0  2.0  2.0     2.0  2.0  2.0  2.0  2.0  2.0  2.0\n",
       " 2.0  2.0  2.0  2.0  2.0  2.0  2.0  2.0     2.0  2.0  2.0  2.0  2.0  2.0  2.0\n",
       " 2.0  2.0  2.0  2.0  2.0  2.0  2.0  2.0  …  2.0  2.0  2.0  2.0  2.0  2.0  2.0\n",
       " 2.0  2.0  2.0  2.0  2.0  2.0  2.0  2.0     2.0  2.0  2.0  2.0  2.0  2.0  2.0\n",
       " 2.0  2.0  2.0  2.0  2.0  2.0  2.0  2.0     2.0  2.0  2.0  2.0  2.0  2.0  2.0\n",
       " 2.0  2.0  2.0  2.0  2.0  2.0  2.0  2.0     2.0  2.0  2.0  2.0  2.0  2.0  2.0\n",
       " 2.0  2.0  2.0  2.0  2.0  2.0  2.0  2.0     2.0  2.0  2.0  2.0  2.0  2.0  2.0\n",
       " ⋮                        ⋮              ⋱  ⋮                        ⋮    \n",
       " 2.0  2.0  2.0  2.0  2.0  2.0  2.0  2.0     2.0  2.0  2.0  2.0  2.0  2.0  2.0\n",
       " 2.0  2.0  2.0  2.0  2.0  2.0  2.0  2.0     2.0  2.0  2.0  2.0  2.0  2.0  2.0\n",
       " 2.0  2.0  2.0  2.0  2.0  2.0  2.0  2.0  …  2.0  2.0  2.0  2.0  2.0  2.0  2.0\n",
       " 2.0  2.0  2.0  2.0  2.0  2.0  2.0  2.0     2.0  2.0  2.0  2.0  2.0  2.0  2.0\n",
       " 2.0  2.0  2.0  2.0  2.0  2.0  2.0  2.0     2.0  2.0  2.0  2.0  2.0  2.0  2.0\n",
       " 2.0  2.0  2.0  2.0  2.0  2.0  2.0  2.0     2.0  2.0  2.0  2.0  2.0  2.0  2.0\n",
       " 2.0  2.0  2.0  2.0  2.0  2.0  2.0  2.0     2.0  2.0  2.0  2.0  2.0  2.0  2.0\n",
       " 2.0  2.0  2.0  2.0  2.0  2.0  2.0  2.0  …  2.0  2.0  2.0  2.0  2.0  2.0  2.0\n",
       " 2.0  2.0  2.0  2.0  2.0  2.0  2.0  2.0     2.0  2.0  2.0  2.0  2.0  2.0  2.0"
      ]
     },
     "metadata": {},
     "output_type": "display_data"
    }
   ],
   "source": [
    "A = ones(32,32)\n",
    "kernel = mul2(CPU(),16)\n",
    "event = kernel(A,ndrange=size(A))\n",
    "wait(event)\n",
    "@show A"
   ]
  },
  {
   "cell_type": "markdown",
   "metadata": {},
   "source": [
    "Para lanzar el mismo kernel con la GPU es necesario indicar `CUDADevice()` como dispositivo, así como utilizar el tipo de datos adecuado como argumento."
   ]
  },
  {
   "cell_type": "code",
   "execution_count": 15,
   "metadata": {},
   "outputs": [
    {
     "name": "stderr",
     "output_type": "stream",
     "text": [
      "Excessive output truncated after 4195339 bytes."
     ]
    },
    {
     "name": "stdout",
     "output_type": "stream",
     "text": [
      "B = "
     ]
    },
    {
     "data": {
      "text/plain": [
       "1024×1024 CuArray{Float32, 2, CUDA.Mem.DeviceBuffer}:\n",
       " 2.0  2.0  2.0  2.0  2.0  2.0  2.0  2.0  …  2.0  2.0  2.0  2.0  2.0  2.0  2.0\n",
       " 2.0  2.0  2.0  2.0  2.0  2.0  2.0  2.0     2.0  2.0  2.0  2.0  2.0  2.0  2.0\n",
       " 2.0  2.0  2.0  2.0  2.0  2.0  2.0  2.0     2.0  2.0  2.0  2.0  2.0  2.0  2.0\n",
       " 2.0  2.0  2.0  2.0  2.0  2.0  2.0  2.0     2.0  2.0  2.0  2.0  2.0  2.0  2.0\n",
       " 2.0  2.0  2.0  2.0  2.0  2.0  2.0  2.0     2.0  2.0  2.0  2.0  2.0  2.0  2.0\n",
       " 2.0  2.0  2.0  2.0  2.0  2.0  2.0  2.0  …  2.0  2.0  2.0  2.0  2.0  2.0  2.0\n",
       " 2.0  2.0  2.0  2.0  2.0  2.0  2.0  2.0     2.0  2.0  2.0  2.0  2.0  2.0  2.0\n",
       " 2.0  2.0  2.0  2.0  2.0  2.0  2.0  2.0     2.0  2.0  2.0  2.0  2.0  2.0  2.0\n",
       " 2.0  2.0  2.0  2.0  2.0  2.0  2.0  2.0     2.0  2.0  2.0  2.0  2.0  2.0  2.0\n",
       " 2.0  2.0  2.0  2.0  2.0  2.0  2.0  2.0     2.0  2.0  2.0  2.0  2.0  2.0  2.0\n",
       " ⋮                        ⋮              ⋱                 ⋮              \n",
       " 2.0  2.0  2.0  2.0  2.0  2.0  2.0  2.0  …  2.0  2.0  2.0  2.0  2.0  2.0  2.0\n",
       " 2.0  2.0  2.0  2.0  2.0  2.0  2.0  2.0     2.0  2.0  2.0  2.0  2.0  2.0  2.0\n",
       " 2.0  2.0  2.0  2.0  2.0  2.0  2.0  2.0     2.0  2.0  2.0  2.0  2.0  2.0  2.0\n",
       " 2.0  2.0  2.0  2.0  2.0  2.0  2.0  2.0     2.0  2.0  2.0  2.0  2.0  2.0  2.0\n",
       " 2.0  2.0  2.0  2.0  2.0  2.0  2.0  2.0     2.0  2.0  2.0  2.0  2.0  2.0  2.0\n",
       " 2.0  2.0  2.0  2.0  2.0  2.0  2.0  2.0  …  2.0  2.0  2.0  2.0  2.0  2.0  2.0\n",
       " 2.0  2.0  2.0  2.0  2.0  2.0  2.0  2.0     2.0  2.0  2.0  2.0  2.0  2.0  2.0\n",
       " 2.0  2.0  2.0  2.0  2.0  2.0  2.0  2.0     2.0  2.0  2.0  2.0  2.0  2.0  2.0\n",
       " 2.0  2.0  2.0  2.0  2.0  2.0  2.0  2.0     2.0  2.0  2.0  2.0  2.0  2.0  2.0"
      ]
     },
     "metadata": {},
     "output_type": "display_data"
    }
   ],
   "source": [
    "B = CUDA.ones(1024,1024)\n",
    "kernel2 = mul2(CUDADevice(),16)\n",
    "event = kernel2(B,ndrange=size(B))\n",
    "wait(event)\n",
    "@show B\n"
   ]
  },
  {
   "cell_type": "markdown",
   "metadata": {},
   "source": [
    "## Lenguaje de kernel\n",
    "\n",
    "En una función que contenga la macro `@kernel` se puede utilizar el lenguaje de kernel incluíso en el paquete:\n",
    "\n",
    "* `@Const`: Permite declarar un argumento que es constante. Es decir, no se escribe como parte del kernel ni hace referencia a otra memoria en el kernel.\n",
    "\n",
    "* `@index`: Permite obtener el índice del entorno dentro de un kernel. Puedes obtener tanto un índice lineal como uno cartesiano.\n",
    "    ### Granularidad del Índice\n",
    "    * `Global`: Usado para acceder a memoria global.\n",
    "    * `Group`: El índice del grupo de trabajo.\n",
    "    * `Local`: El índice dentro del grupo de trabajo.\n",
    "    ### Tipo de Índice\n",
    "    * `Linear`: Produce un `Int64` que se usa para acceder de manera lineal a la memoria.\n",
    "    * `Cartesian`: Produce un `CartesianIndex{N}` para acceder a la memoria.\n",
    "    * `NTuple`: Produce un `NTuple{N}` para acceder a la memoria.\n",
    "El argumento or defecto es `Linear`.\n",
    "\n",
    "```Julia\n",
    "    @index(Global, Linear)\n",
    "    @index(Global, Cartesian)\n",
    "    @index(Local, Cartesian)\n",
    "    @index(Group, Linear)\n",
    "    @index(Local, NTuple)\n",
    "    @index(Global)\n",
    "```\n",
    "\n",
    "* `@localmem`: Declara una memoria local para un grupo de trabajo.\n",
    "\n",
    "* `@private`: Declara memoria que es local para cada elemento en el grupo de trabajo. Se puede usar de manera segura para sincronizar los hilos.\n",
    "\n",
    "* `@synchronize`: Después de esta sentencia todas las lecturas y escrituras a memoria local y global de cada hilo en el grupo de trabajo.\n",
    "\n",
    "* `@print`: Sirve para imprimir dentro del kernel.\n",
    "\n",
    "## Ejemplos:\n"
   ]
  },
  {
   "cell_type": "code",
   "execution_count": 3,
   "metadata": {},
   "outputs": [
    {
     "data": {
      "text/plain": [
       "copy_kernel! (generic function with 5 methods)"
      ]
     },
     "metadata": {},
     "output_type": "display_data"
    }
   ],
   "source": [
    "@kernel function copy_kernel!(A, @Const B)\n",
    "    I = @index(Global)\n",
    "    @inbounds A[I] = B[I]\n",
    "end"
   ]
  },
  {
   "cell_type": "code",
   "execution_count": 4,
   "metadata": {},
   "outputs": [
    {
     "data": {
      "text/plain": [
       "mycopy! (generic function with 1 method)"
      ]
     },
     "metadata": {},
     "output_type": "display_data"
    }
   ],
   "source": [
    "function mycopy!(A::Array, B::Array)\n",
    "    @assert size(A) == size(B)\n",
    "    kernel = copy_kernel!(CPU(), 8)\n",
    "    kernel(A,B, ndrange=length(A))\n",
    "end"
   ]
  },
  {
   "cell_type": "code",
   "execution_count": 7,
   "metadata": {},
   "outputs": [
    {
     "data": {
      "text/plain": [
       "\u001b[32m\u001b[1mTest Passed\u001b[22m\u001b[39m\n",
       "  Expression: A == B\n",
       "   Evaluated: [1.0 1.0 … 1.0 1.0; 1.0 1.0 … 1.0 1.0; … ; 1.0 1.0 … 1.0 1.0; 1.0 1.0 … 1.0 1.0] == [1.0 1.0 … 1.0 1.0; 1.0 1.0 … 1.0 1.0; … ; 1.0 1.0 … 1.0 1.0; 1.0 1.0 … 1.0 1.0]"
      ]
     },
     "metadata": {},
     "output_type": "display_data"
    }
   ],
   "source": [
    "A = zeros(128,128)\n",
    "B = ones(128,128)\n",
    "event = mycopy!(A,B)\n",
    "wait(event)\n",
    "@test A == B"
   ]
  },
  {
   "cell_type": "code",
   "execution_count": 10,
   "metadata": {},
   "outputs": [
    {
     "data": {
      "text/plain": [
       "\u001b[32m\u001b[1mTest Passed\u001b[22m\u001b[39m\n",
       "  Expression: A == B\n",
       "   Evaluated: Float32[1.0, 1.0, 1.0, 1.0, 1.0, 1.0, 1.0, 1.0, 1.0, 1.0  …  1.0, 1.0, 1.0, 1.0, 1.0, 1.0, 1.0, 1.0, 1.0, 1.0] == Float32[1.0, 1.0, 1.0, 1.0, 1.0, 1.0, 1.0, 1.0, 1.0, 1.0  …  1.0, 1.0, 1.0, 1.0, 1.0, 1.0, 1.0, 1.0, 1.0, 1.0]"
      ]
     },
     "metadata": {},
     "output_type": "display_data"
    }
   ],
   "source": [
    "if has_cuda() && has_cuda_gpu()\n",
    "    function mycopy!(A::CuArray, B::CuArray)\n",
    "        @assert size(A) == size(B)\n",
    "        copy_kernel!(CUDADevice(), 256)(A, B, ndrange=length(A))\n",
    "    end\n",
    "\n",
    "    A = CuArray{Float32}(undef, 1024)\n",
    "    B = CUDA.ones(Float32, 1024)\n",
    "    event = mycopy!(A,B)\n",
    "    wait(event)\n",
    "    @test A == B\n",
    "end"
   ]
  },
  {
   "cell_type": "markdown",
   "metadata": {},
   "source": [
    "## Comparación entre CUDA.jl y KernelAbstractions.jl\n",
    "\n",
    "En general, uno puede usar ambas librerías para construir kernels para GPU; sin embargo, los kernels construidos con `CUDA.jl` no pueden ejecutarse con el CPU, mientras que con `KernelAbstractions.jl` sí es posible. Los tipos de datos que usan ambos son los mismos (`CuArray`), a excepción de la manera de declarar memoria compartida. Para mostrar la diferencia de uso de ambos paquetes, crearemos el mismo programa usando ambas bibliotecas. El programa tiene como objetivo obtener la matriz transpuesta de una matriz, primero realizado de manera \"ingenua\", y luego usando memoria compartida para mejorar el uso de memoria y ancho de banda del GPU."
   ]
  },
  {
   "cell_type": "markdown",
   "metadata": {},
   "source": [
    "### Matriz Transpuesta Ingenua"
   ]
  },
  {
   "cell_type": "code",
   "execution_count": 2,
   "metadata": {},
   "outputs": [
    {
     "data": {
      "text/plain": [
       "transpose_kernel_nv! (generic function with 5 methods)"
      ]
     },
     "execution_count": 2,
     "metadata": {},
     "output_type": "execute_result"
    }
   ],
   "source": [
    "using KernelAbstractions, CUDA, CUDAKernels\n",
    "\n",
    "@kernel function transpose_kernel_nv!(A, @Const B)\n",
    "    I,J = @index(Global, NTuple)\n",
    "    @inbounds A[I,J] = B[J,I]\n",
    "end"
   ]
  },
  {
   "cell_type": "code",
   "execution_count": 6,
   "metadata": {},
   "outputs": [
    {
     "data": {
      "text/plain": [
       "64×64 CuArray{Float32, 2, CUDA.Mem.DeviceBuffer}:\n",
       " 0.741041    0.309143   0.423951   …  0.499337   0.669243   0.72744\n",
       " 0.562824    0.628273   0.909818      0.431117   0.965646   0.50594\n",
       " 0.746724    0.646066   0.99963       0.457733   0.984296   0.368442\n",
       " 0.981253    0.68407    0.268391      0.178862   0.0505773  0.0209151\n",
       " 0.024574    0.173985   0.847356      0.900485   0.377433   0.327913\n",
       " 0.775626    0.930416   0.482024   …  0.111625   0.724642   0.966281\n",
       " 0.955156    0.779585   0.523372      0.998777   0.26394    0.160348\n",
       " 0.825587    0.189353   0.0402689     0.705045   0.576185   0.148098\n",
       " 0.894214    0.496281   0.22742       0.310066   0.82547    0.315577\n",
       " 0.00576556  0.255806   0.202438      0.982087   0.862935   0.322455\n",
       " 0.00299558  0.46784    0.326191   …  0.800332   0.52368    0.0849368\n",
       " 0.749366    0.453862   0.0972514     0.461876   0.974266   0.968448\n",
       " 0.277551    0.89669    0.226138      0.945546   0.777721   0.132211\n",
       " ⋮                                 ⋱                        \n",
       " 0.22434     0.4993     0.229015      0.0708349  0.771785   0.464696\n",
       " 0.872601    0.438752   0.39432       0.623463   0.202207   0.302793\n",
       " 0.641979    0.0741098  0.951346      0.152731   0.714306   0.768662\n",
       " 0.552173    0.691921   0.0331971  …  0.710541   0.848661   0.795536\n",
       " 0.421973    0.306537   0.0104867     0.153858   0.251281   0.768854\n",
       " 0.61425     0.941192   0.408515      0.805495   0.201119   0.197796\n",
       " 0.918828    0.350264   0.584134      0.93069    0.380376   0.263249\n",
       " 0.531992    0.0226002  0.0113218     0.763532   0.337511   0.0635952\n",
       " 0.35271     0.0395419  0.584372   …  0.810623   0.807841   0.570385\n",
       " 0.959421    0.411787   0.243301      0.845497   0.170903   0.622592\n",
       " 0.279372    0.194007   0.0824469     0.928796   0.904192   0.150293\n",
       " 0.941185    0.823028   0.705027      0.0267995  0.320047   0.526636"
      ]
     },
     "execution_count": 6,
     "metadata": {},
     "output_type": "execute_result"
    }
   ],
   "source": [
    "B  = CUDA.rand(64,64)\n",
    "A  = similar(B)\n",
    "Ax = similar(B)\n",
    "\n",
    "const transpose! = transpose_kernel_nv!(CUDADevice(), (32,32))\n",
    "event = transpose!(A,B, ndrange=size(A))\n",
    "wait(event)\n",
    "A"
   ]
  },
  {
   "cell_type": "code",
   "execution_count": 5,
   "metadata": {},
   "outputs": [
    {
     "data": {
      "text/plain": [
       "64×64 CuArray{Float32, 2, CUDA.Mem.DeviceBuffer}:\n",
       " 0.76063    0.982444   0.238076   0.486369   …  0.124105  0.257197  0.021197\n",
       " 0.724946   0.0493957  0.904647   0.79699       0.450665  0.879822  0.31932\n",
       " 0.379871   0.584883   0.533684   0.179053      0.407346  0.41819   0.158003\n",
       " 0.0361741  0.208313   0.488369   0.0559797     0.357504  0.620683  0.617088\n",
       " 0.120144   0.29577    0.684046   0.521824      0.450657  0.019757  0.747217\n",
       " 0.633078   0.406814   0.0352185  0.446812   …  0.950219  0.410186  0.272251\n",
       " 0.404653   0.473751   0.0512604  0.102672      0.839958  0.566055  0.96515\n",
       " 0.839305   0.951306   0.407288   0.66823       0.630668  0.529566  0.275367\n",
       " 0.15874    0.230324   0.895295   0.558798      0.815378  0.28682   0.915493\n",
       " 0.0393457  0.225271   0.672282   0.519074      0.645698  0.668697  0.185113\n",
       " 0.302265   0.883036   0.0582322  0.545559   …  0.243013  0.949003  0.416128\n",
       " 0.118286   0.813103   0.7596     0.115883      0.24661   0.762576  0.642048\n",
       " 0.606179   0.92375    0.237938   0.68335       0.34174   0.247999  0.632443\n",
       " ⋮                                           ⋱                      \n",
       " 0.873899   0.982779   0.465959   0.592829      0.76907   0.85823   0.307211\n",
       " 0.408752   0.394229   0.42654    0.423612      0.063706  0.335078  0.886905\n",
       " 0.727899   0.12793    0.519373   0.500695      0.840273  0.907826  0.643142\n",
       " 0.870784   0.458533   0.467846   0.262577   …  0.220835  0.242729  0.214483\n",
       " 0.564629   0.0620499  0.54715    0.452853      0.215093  0.784676  0.477724\n",
       " 0.724114   0.326336   0.873392   0.831487      0.546348  0.644435  0.400094\n",
       " 0.676273   0.916447   0.0872286  0.73817       0.332752  0.822547  0.0461779\n",
       " 0.625275   0.116115   0.266945   0.241584      0.655102  0.164819  0.936382\n",
       " 0.586878   0.510999   0.435917   0.622476   …  0.576534  0.442904  0.276523\n",
       " 0.797488   0.267113   0.292803   0.053074      0.458161  0.895666  0.686027\n",
       " 0.706219   0.851992   0.538331   0.760619      0.685115  0.816905  0.234635\n",
       " 0.828534   0.634499   0.526967   0.658805      0.841472  0.690931  0.949532"
      ]
     },
     "execution_count": 5,
     "metadata": {},
     "output_type": "execute_result"
    }
   ],
   "source": [
    "B "
   ]
  },
  {
   "cell_type": "code",
   "execution_count": 7,
   "metadata": {},
   "outputs": [
    {
     "data": {
      "text/plain": [
       "matriz_transpose_cd_nv! (generic function with 1 method)"
      ]
     },
     "execution_count": 7,
     "metadata": {},
     "output_type": "execute_result"
    }
   ],
   "source": [
    "function matriz_transpose_cd_nv!(A, B)\n",
    "    indexX = threadIdx().x + (blockIdx().x - 1) * blockDim().x \n",
    "    indexY = threadIdx().y + (blockIdx().y - 1) * blockDim().y\n",
    "    \n",
    "    for j in 0:blockDim().y:blockDim().x-1\n",
    "        A[indexX,indexY+j] = B[indexY + j, indexX]\n",
    "    end\n",
    "\n",
    "    return nothing\n",
    "end\n"
   ]
  },
  {
   "cell_type": "code",
   "execution_count": 8,
   "metadata": {},
   "outputs": [
    {
     "data": {
      "text/plain": [
       "CUDA.HostKernel{typeof(matriz_transpose_cd_nv!), Tuple{CuDeviceMatrix{Float32, 1}, CuDeviceMatrix{Float32, 1}}}(matriz_transpose_cd_nv!, CuFunction(Ptr{Nothing} @0x0000000008dd40e0, CuModule(Ptr{Nothing} @0x0000000008c91b20, CuContext(0x000000000483c3f0, instance dbbb8d4a098e98e2))), CUDA.KernelState(Ptr{Nothing} @0x00007faa32400000))"
      ]
     },
     "execution_count": 8,
     "metadata": {},
     "output_type": "execute_result"
    }
   ],
   "source": [
    "dimGrid  = (Int(64/32),Int(64/32),1)\n",
    "dimBlock = (32,8,1)\n",
    "\n",
    "@cuda threads=dimBlock  blocks=dimGrid matriz_transpose_cd_nv!(Ax,B)"
   ]
  },
  {
   "cell_type": "code",
   "execution_count": 9,
   "metadata": {},
   "outputs": [
    {
     "data": {
      "text/plain": [
       "64×64 CuArray{Float32, 2, CUDA.Mem.DeviceBuffer}:\n",
       " 0.741041    0.309143   0.423951   …  0.0  0.0  0.0  0.0  0.0  0.0  0.0\n",
       " 0.562824    0.628273   0.909818      0.0  0.0  0.0  0.0  0.0  0.0  0.0\n",
       " 0.746724    0.646066   0.99963       0.0  0.0  0.0  0.0  0.0  0.0  0.0\n",
       " 0.981253    0.68407    0.268391      0.0  0.0  0.0  0.0  0.0  0.0  0.0\n",
       " 0.024574    0.173985   0.847356      0.0  0.0  0.0  0.0  0.0  0.0  0.0\n",
       " 0.775626    0.930416   0.482024   …  0.0  0.0  0.0  0.0  0.0  0.0  0.0\n",
       " 0.955156    0.779585   0.523372      0.0  0.0  0.0  0.0  0.0  0.0  0.0\n",
       " 0.825587    0.189353   0.0402689     0.0  0.0  0.0  0.0  0.0  0.0  0.0\n",
       " 0.894214    0.496281   0.22742       0.0  0.0  0.0  0.0  0.0  0.0  0.0\n",
       " 0.00576556  0.255806   0.202438      0.0  0.0  0.0  0.0  0.0  0.0  0.0\n",
       " 0.00299558  0.46784    0.326191   …  0.0  0.0  0.0  0.0  0.0  0.0  0.0\n",
       " 0.749366    0.453862   0.0972514     0.0  0.0  0.0  0.0  0.0  0.0  0.0\n",
       " 0.277551    0.89669    0.226138      0.0  0.0  0.0  0.0  0.0  0.0  0.0\n",
       " ⋮                                 ⋱                 ⋮              \n",
       " 0.22434     0.4993     0.229015      0.0  0.0  0.0  0.0  0.0  0.0  0.0\n",
       " 0.872601    0.438752   0.39432       0.0  0.0  0.0  0.0  0.0  0.0  0.0\n",
       " 0.641979    0.0741098  0.951346      0.0  0.0  0.0  0.0  0.0  0.0  0.0\n",
       " 0.552173    0.691921   0.0331971  …  0.0  0.0  0.0  0.0  0.0  0.0  0.0\n",
       " 0.421973    0.306537   0.0104867     0.0  0.0  0.0  0.0  0.0  0.0  0.0\n",
       " 0.61425     0.941192   0.408515      0.0  0.0  0.0  0.0  0.0  0.0  0.0\n",
       " 0.918828    0.350264   0.584134      0.0  0.0  0.0  0.0  0.0  0.0  0.0\n",
       " 0.531992    0.0226002  0.0113218     0.0  0.0  0.0  0.0  0.0  0.0  0.0\n",
       " 0.35271     0.0395419  0.584372   …  0.0  0.0  0.0  0.0  0.0  0.0  0.0\n",
       " 0.959421    0.411787   0.243301      0.0  0.0  0.0  0.0  0.0  0.0  0.0\n",
       " 0.279372    0.194007   0.0824469     0.0  0.0  0.0  0.0  0.0  0.0  0.0\n",
       " 0.941185    0.823028   0.705027      0.0  0.0  0.0  0.0  0.0  0.0  0.0"
      ]
     },
     "execution_count": 9,
     "metadata": {},
     "output_type": "execute_result"
    }
   ],
   "source": [
    "Ax"
   ]
  },
  {
   "cell_type": "code",
   "execution_count": 10,
   "metadata": {},
   "outputs": [
    {
     "data": {
      "text/plain": [
       "false"
      ]
     },
     "execution_count": 10,
     "metadata": {},
     "output_type": "execute_result"
    }
   ],
   "source": [
    "A == Ax"
   ]
  },
  {
   "cell_type": "markdown",
   "metadata": {},
   "source": [
    "## Matriz transpuesta haciendo uso de memoria compartida\n",
    "\n",
    "### Kernel Abstractions"
   ]
  },
  {
   "cell_type": "code",
   "execution_count": 41,
   "metadata": {},
   "outputs": [],
   "source": [
    "import KernelAbstractions.Extras: @unroll\n",
    "@kernel function transpose_coalesced(A, @Const(B))\n",
    "    #TILE_DIM   = @uniform groupsize()[1]\n",
    "    #BLOCK_ROWS = @uniform groupsize()[2]\n",
    "    TILE_DIM   = 32\n",
    "    BLOCK_ROWS = 8\n",
    "    tile = @localmem eltype(A) (TILE_DIM+1,TILE_DIM)\n",
    "\n",
    "    i, j  = @index(Local,NTuple)\n",
    "    gi,gj = @index(Group,NTuple)\n",
    "\n",
    "    I = (gi-1) * TILE_DIM + i #No podemos usar @index(Global)\n",
    "    J = (gj-1) * TILE_DIM + j #Porque el rango nd está comprimido\n",
    "\n",
    "    @unroll for k in 0:BLOCK_ROWS:(TILE_DIM-1)\n",
    "        @inbounds tile[i,j+k] = B[I,J+k]\n",
    "    end\n",
    "\n",
    "    @synchronize\n",
    "\n",
    "    I = (gj-1) * TILE_DIM + i\n",
    "    J = (gi-1) * TILE_DIM + j\n",
    "\n",
    "    @unroll for k in 0:BLOCK_ROWS:(TILE_DIM-1)\n",
    "        @inbounds A[I, J+k] = tile[j+k,i]\n",
    "    end\n",
    "end"
   ]
  },
  {
   "cell_type": "code",
   "execution_count": 39,
   "metadata": {},
   "outputs": [
    {
     "data": {
      "text/plain": [
       "ka_transpose (generic function with 3 methods)"
      ]
     },
     "execution_count": 39,
     "metadata": {},
     "output_type": "execute_result"
    }
   ],
   "source": [
    "function ka_transpose(\n",
    "    A::CuMatrix, \n",
    "    B::CuMatrix, \n",
    "    ::Val{TILE_DIM}=Val(32),\n",
    "    ::Val{BLOCK_ROWS}=Val(8);\n",
    "    dependencies=nothing\n",
    "    ) where {TILE_DIM, BLOCK_ROWS}\n",
    "\n",
    "    @assert TILE_DIM % BLOCK_ROWS == 0\n",
    "    @assert size(A) == size(B) && size(A,1) == size(A,2)\n",
    "    @assert size(A,1) % TILE_DIM == 0\n",
    "\n",
    "    block_factor = div(TILE_DIM,BLOCK_ROWS)\n",
    "    ndrange = (size(A,1), div(size(A,2), block_factor))\n",
    "\n",
    "    kernel = transpose_coalesced(CUDADevice(), (TILE_DIM, BLOCK_ROWS))\n",
    "    event  = kernel(A,B, ndrange=ndrange, dependencies=dependencies)\n",
    "    return event\n",
    "end"
   ]
  },
  {
   "cell_type": "code",
   "execution_count": 42,
   "metadata": {},
   "outputs": [
    {
     "data": {
      "text/plain": [
       "128×128 CuArray{Float32, 2, CUDA.Mem.DeviceBuffer}:\n",
       " 0.279239   0.0887743  0.269508    …  0.539111   0.0753977  0.0436286\n",
       " 0.425819   0.492812   0.00604024     0.78792    0.795262   0.903381\n",
       " 0.942517   0.320622   0.890359       0.429415   0.306786   0.24197\n",
       " 0.184102   0.737187   0.505498       0.800187   0.787036   0.640905\n",
       " 0.326671   0.367217   0.355659       0.0473809  0.0667441  0.21481\n",
       " 0.583603   0.556011   0.183512    …  0.465528   0.911416   0.977237\n",
       " 0.92897    0.868435   0.139299       0.987325   0.206076   0.974948\n",
       " 0.714868   0.892955   0.0330051      0.0626288  0.221134   0.403528\n",
       " 0.0928244  0.388599   0.145105       0.429505   0.722478   0.81937\n",
       " 0.774083   0.218699   0.0855474      0.0053203  0.776218   0.0392996\n",
       " 0.460299   0.285975   0.21818     …  0.0450912  0.687131   0.608314\n",
       " 0.375465   0.5792     0.0607396      0.43391    0.0103343  0.27804\n",
       " 0.782234   0.551244   0.61692        0.217464   0.275764   0.550559\n",
       " ⋮                                 ⋱  ⋮                     \n",
       " 0.899135   0.323242   0.583321       0.68845    0.93632    0.533087\n",
       " 0.153599   0.849919   0.71564        0.115988   0.948018   0.201707\n",
       " 0.912345   0.197193   0.576226       0.374212   0.991069   0.580536\n",
       " 0.955781   0.385508   0.0171198      0.57806    0.679381   0.814021\n",
       " 0.681128   0.452072   0.302673    …  0.531668   0.577171   0.953961\n",
       " 0.636284   0.726168   0.528786       0.435343   0.383366   0.403748\n",
       " 0.997385   0.477341   0.60964        0.336974   0.292307   0.816504\n",
       " 0.498895   0.408943   0.941369       0.167329   0.177521   0.126099\n",
       " 0.472441   0.908526   0.764092       0.191095   0.731586   0.78981\n",
       " 0.994761   0.285986   0.362094    …  0.662418   0.549826   0.610866\n",
       " 0.660561   0.182186   0.0503142      0.939089   0.761274   0.507362\n",
       " 0.34395    0.459064   0.568918       0.397242   0.749417   0.723245"
      ]
     },
     "execution_count": 42,
     "metadata": {},
     "output_type": "execute_result"
    }
   ],
   "source": [
    "B = CUDA.rand(128,128)\n",
    "A = similar(B)\n",
    "event = ka_transpose(A,B)\n",
    "wait(event)\n",
    "B"
   ]
  },
  {
   "cell_type": "code",
   "execution_count": 43,
   "metadata": {},
   "outputs": [
    {
     "data": {
      "text/plain": [
       "128×128 CuArray{Float32, 2, CUDA.Mem.DeviceBuffer}:\n",
       " 0.279239    0.425819    0.942517  …  0.994761   0.660561   0.34395\n",
       " 0.0887743   0.492812    0.320622     0.285986   0.182186   0.459064\n",
       " 0.269508    0.00604024  0.890359     0.362094   0.0503142  0.568918\n",
       " 0.0673942   0.00120558  0.39774      0.338843   0.324891   0.710175\n",
       " 0.843009    0.542222    0.1444       0.714063   0.115417   0.626225\n",
       " 0.441298    0.829613    0.6867    …  0.47522    0.864212   0.83372\n",
       " 0.554936    0.631655    0.776222     0.914168   0.457769   0.378902\n",
       " 0.793884    0.39826     0.328077     0.47758    0.11679    0.335602\n",
       " 0.418474    0.534767    0.417985     0.324148   0.942557   0.927066\n",
       " 0.299047    0.421913    0.747633     0.0869144  0.437664   0.539074\n",
       " 0.831477    0.450095    0.253783  …  0.21658    0.957726   0.638393\n",
       " 0.74802     0.875936    0.855633     0.732257   0.855873   0.700877\n",
       " 0.0536358   0.011064    0.515682     0.071261   0.842699   0.603946\n",
       " ⋮                                 ⋱  ⋮                     \n",
       " 0.0150052   0.655845    0.603698     0.668689   0.788538   0.296061\n",
       " 0.0608731   0.670523    0.107389     0.454723   0.546414   0.905446\n",
       " 0.35073     0.329592    0.552712     0.852272   0.304158   0.469011\n",
       " 0.00508289  0.899549    0.287971     0.623576   0.393331   0.182934\n",
       " 0.13162     0.177666    0.519033  …  0.548979   0.342214   0.684413\n",
       " 0.823939    0.105273    0.106129     0.558596   0.308429   0.19882\n",
       " 0.288732    0.391816    0.137644     0.379428   0.689104   0.280349\n",
       " 0.642702    0.289055    0.747353     0.996385   0.491416   0.322601\n",
       " 0.776081    0.404675    0.946725     0.515017   0.708696   0.824218\n",
       " 0.539111    0.78792     0.429415  …  0.662418   0.939089   0.397242\n",
       " 0.0753977   0.795262    0.306786     0.549826   0.761274   0.749417\n",
       " 0.0436286   0.903381    0.24197      0.610866   0.507362   0.723245"
      ]
     },
     "execution_count": 43,
     "metadata": {},
     "output_type": "execute_result"
    }
   ],
   "source": [
    "A"
   ]
  },
  {
   "cell_type": "markdown",
   "metadata": {},
   "source": [
    "### CUDA.jl"
   ]
  },
  {
   "cell_type": "code",
   "execution_count": 70,
   "metadata": {},
   "outputs": [
    {
     "data": {
      "text/plain": [
       "matrix_transpose_shared! (generic function with 1 method)"
      ]
     },
     "execution_count": 70,
     "metadata": {},
     "output_type": "execute_result"
    }
   ],
   "source": [
    "function matrix_transpose_shared!(input, output)\n",
    "    sharedMemory = CUDA.CuStaticSharedArray(Float64,(32 + 1,32))\n",
    "\n",
    "    #global index\n",
    "    indexX = threadIdx().x + (blockIdx().x-1) * blockDim().x\n",
    "    indexY = threadIdx().y + (blockIdx().y-1) * blockDim().y \n",
    "\n",
    "    #transposed global index\n",
    "    tindexX = threadIdx().x + (blockIdx().y-1) * blockDim().x \n",
    "    tindexY = threadIdx().y + (blockIdx().x-1) * blockDim().y \n",
    "\n",
    "    #local index \n",
    "    localIndexX = threadIdx().x \n",
    "    localIndexY = threadIdx().y \n",
    "    index = (indexY-1) * 64 + indexX \n",
    "    transposedIndex = (tindexY-1) * 64 + tindexX\n",
    "\n",
    "    #transposed the matrix in shared memory \n",
    "    #global memory is read in coalesced fashion\n",
    "\n",
    "    sharedMemory[localIndexX,localIndexY] = input[index]\n",
    "    \n",
    "    CUDA.sync_threads()\n",
    "    output[transposedIndex] = sharedMemory[localIndexY,localIndexX]\n",
    "    return \n",
    "end"
   ]
  },
  {
   "cell_type": "code",
   "execution_count": 71,
   "metadata": {},
   "outputs": [
    {
     "data": {
      "text/plain": [
       "CUDA.HostKernel{typeof(matrix_transpose_shared!), Tuple{CuDeviceMatrix{Float32, 1}, CuDeviceMatrix{Float32, 1}}}(matrix_transpose_shared!, CuFunction(Ptr{Nothing} @0x000000000b9252c0, CuModule(Ptr{Nothing} @0x000000000ba20390, CuContext(0x000000000483c3f0, instance dbbb8d4a098e98e2))), CUDA.KernelState(Ptr{Nothing} @0x00007faa32400000))"
      ]
     },
     "execution_count": 71,
     "metadata": {},
     "output_type": "execute_result"
    }
   ],
   "source": [
    "a = CUDA.rand(64,64)\n",
    "b = similar(a)\n",
    "@cuda threads=(32,32,1) blocks=(div(64,32),div(64,32),1) matrix_transpose_shared!(a,b)\n"
   ]
  },
  {
   "cell_type": "code",
   "execution_count": 72,
   "metadata": {},
   "outputs": [
    {
     "data": {
      "text/plain": [
       "true"
      ]
     },
     "execution_count": 72,
     "metadata": {},
     "output_type": "execute_result"
    }
   ],
   "source": [
    "Array(a)' == Array(b)"
   ]
  }
 ],
 "metadata": {
  "kernelspec": {
   "display_name": "Julia 1.7.2",
   "language": "julia",
   "name": "julia-1.7"
  },
  "language_info": {
   "file_extension": ".jl",
   "mimetype": "application/julia",
   "name": "julia",
   "version": "1.7.2"
  },
  "orig_nbformat": 4
 },
 "nbformat": 4,
 "nbformat_minor": 2
}
