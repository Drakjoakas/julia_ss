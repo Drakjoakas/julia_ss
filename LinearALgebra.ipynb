{
 "cells": [
  {
   "cell_type": "markdown",
   "metadata": {},
   "source": [
    "# Linear Algebra\n",
    "\n",
    "Además de soportar de manera nativa arreglos multidimensionales, Julia cuenta con varias implementaciones de operaciones de álgebra lineal usando el módulo `LinearAlgreba`."
   ]
  },
  {
   "cell_type": "code",
   "execution_count": 2,
   "metadata": {},
   "outputs": [],
   "source": [
    "using LinearAlgebra"
   ]
  },
  {
   "cell_type": "markdown",
   "metadata": {},
   "source": [
    "## Matrices especiales\n",
    "\n",
    "En el álgebra lineal aparecen varias matrices con **simetrías y estructuras especiales**, que se asocian a varias factorizaciones de matrices. Julia contiene una gran colección de tipos especiales de matrices, lo que ayuda a computar operaciones de manera rápida con rutinas especiales para cada tipo de matriz.\n",
    "\n",
    "|**Tipo**|**Descripción**|\n",
    "|--------|---------------|\n",
    "|`Symmetric`|*Matriz simétrica*: Una matriz cuadrada que es igual a su matriz transpuesta. |\n",
    "|`Hermitian`|*Matriz hermitiana*:Una matriz cuadrada compleja que es igual a su matriz conjugada transpuesta. |\n",
    "|`UpperTriangular`|*Matriz triangular superior*: Matriz cuadrada con los valores debajo de la diagonal principal igual a cero. |\n",
    "|`LowerTriangular`|*Matriz triangular inferior*: Matriz cuadrada con los valores arriba de la diagonal principal igual a cero. |\n",
    "|`UnitLowerTriangular`|*Matriz triangular inferior unitaria*:Matriz triangular inferior con la diagonal unitaria. |\n",
    "|`UpperHessenberg`|*Matriz superior Hessenberg*:Una matriz cuadrada con ceros debajo de la subdiagonal (diagonal inmediata la diagonal principal). |\n",
    "|`Tridiagonal`|*Matriz tridiagonal*: Matriz con elementos diferentes a cero en la diagonal principal y las diagonales inmediatas superior e inferior. |\n",
    "|`SymTridiagonal`|*Matriz tridiagonal simétrica* |\n",
    "|`Bidiagonal`|*Matriz Bidiagonal superior/inferior*:Matriz con elementos diferentes a cero en la diagonal principal y en la diagonal inmediata superior **o** inferior. |\n",
    "|`Diagonal`|*Matriz Diagonal*: Matriz con entradas diferentes a cero sólo en la diagonal principal. |\n",
    "|`UniformScaling`|*Escalamiento Uniforme*: Transformación lineal que incrementa o disminuye un objeto por un factor de escala en todas las direcciones. |\n"
   ]
  },
  {
   "cell_type": "markdown",
   "metadata": {},
   "source": [
    "## El operador uniforme escalar\n",
    "\n",
    "El operador `UniformScaling` representa un escalar multiplicada por la matriz identidad $\\lambda * I$. EL tamaño del operador es constante y corresponde con la otra matriz y los operandos `+`,`-`,`*`,`\\`."
   ]
  },
  {
   "cell_type": "code",
   "execution_count": 3,
   "metadata": {},
   "outputs": [
    {
     "data": {
      "text/plain": [
       "UniformScaling{Int64}\n",
       "2*I"
      ]
     },
     "execution_count": 3,
     "metadata": {},
     "output_type": "execute_result"
    }
   ],
   "source": [
    "U = UniformScaling(2)"
   ]
  },
  {
   "cell_type": "code",
   "execution_count": 4,
   "metadata": {},
   "outputs": [
    {
     "data": {
      "text/plain": [
       "2×2 Matrix{Int64}:\n",
       " 1  2\n",
       " 3  4"
      ]
     },
     "execution_count": 4,
     "metadata": {},
     "output_type": "execute_result"
    }
   ],
   "source": [
    "a = [1 2; 3 4]"
   ]
  },
  {
   "cell_type": "code",
   "execution_count": 5,
   "metadata": {},
   "outputs": [
    {
     "data": {
      "text/plain": [
       "2×2 Matrix{Int64}:\n",
       " 3  2\n",
       " 3  6"
      ]
     },
     "execution_count": 5,
     "metadata": {},
     "output_type": "execute_result"
    }
   ],
   "source": [
    "a + U "
   ]
  },
  {
   "cell_type": "code",
   "execution_count": 6,
   "metadata": {},
   "outputs": [
    {
     "data": {
      "text/plain": [
       "2×2 Matrix{Int64}:\n",
       " 2  4\n",
       " 6  8"
      ]
     },
     "execution_count": 6,
     "metadata": {},
     "output_type": "execute_result"
    }
   ],
   "source": [
    "a * U "
   ]
  },
  {
   "cell_type": "code",
   "execution_count": 7,
   "metadata": {},
   "outputs": [
    {
     "data": {
      "text/plain": [
       "2×4 Matrix{Int64}:\n",
       " 1  2  2  0\n",
       " 3  4  0  2"
      ]
     },
     "execution_count": 7,
     "metadata": {},
     "output_type": "execute_result"
    }
   ],
   "source": [
    "[a U]"
   ]
  },
  {
   "cell_type": "markdown",
   "metadata": {},
   "source": [
    "## Funciones estándar\n",
    "\n",
    "Muchas funciones de álgebra lineal están implementadas en Julia al invocar funciones del paquete **LAPACK**.\n",
    "\n",
    "**Operador:** `*`\n",
    "\n",
    "Representa la multiplicación de matrices."
   ]
  },
  {
   "cell_type": "code",
   "execution_count": 8,
   "metadata": {},
   "outputs": [
    {
     "data": {
      "text/plain": [
       "2×2 Matrix{Int64}:\n",
       " 2  1\n",
       " 1  1"
      ]
     },
     "execution_count": 8,
     "metadata": {},
     "output_type": "execute_result"
    }
   ],
   "source": [
    "[1 1; 0 1] * [1 0; 1 1]"
   ]
  },
  {
   "cell_type": "markdown",
   "metadata": {},
   "source": [
    "**Operador:** `\\`\n",
    "\n",
    "División de matrices utilizando un polyalgoritmo. Si la entrada son matices `A` y `B`, el resultado es `X` tal que `A*X == B` cuando `A` es una matriz cuadrada. La forma de resolver la división depende de la estructura de `A`."
   ]
  },
  {
   "cell_type": "code",
   "execution_count": 9,
   "metadata": {},
   "outputs": [
    {
     "data": {
      "text/plain": [
       "2-element Vector{Float64}:\n",
       " 32.0\n",
       " 18.0"
      ]
     },
     "execution_count": 9,
     "metadata": {},
     "output_type": "execute_result"
    }
   ],
   "source": [
    "A = [1 0; 1 -2];\n",
    "B = [32; -4];\n",
    "\n",
    "X = A \\ B"
   ]
  },
  {
   "cell_type": "code",
   "execution_count": 10,
   "metadata": {},
   "outputs": [
    {
     "data": {
      "text/plain": [
       "true"
      ]
     },
     "execution_count": 10,
     "metadata": {},
     "output_type": "execute_result"
    }
   ],
   "source": [
    "A * X == B"
   ]
  },
  {
   "cell_type": "markdown",
   "metadata": {},
   "source": [
    "`Singular Exception`\n",
    "\n",
    "Excepción lanzada cuando la matriz de entrada tiene uno o más Eigenvalores igual a 0, y no es reversible. Una solución lineal que involucra una matriz así no se puede calcular.\n",
    "\n",
    "`PosDefException`\n",
    "\n",
    "Excepción lanzada cuando la matriz de entrada no es positiva definida. Algunas funciones y factorizaciones sólo son posibles con matrices positivas definidas.\n",
    "\n",
    "`ZeroPivotException`\n",
    "\n",
    "Excepción lanzada cuando una factorización o resolución se enceuntra con un cero en un pivote y por lo tanto no puede continuar.\n",
    "\n",
    "**Operador:** `dot()`\n",
    "\n",
    "Representa el producto punto: `dot(x,y)` es igual a $ x \\cdot y $ "
   ]
  },
  {
   "cell_type": "code",
   "execution_count": 11,
   "metadata": {},
   "outputs": [
    {
     "data": {
      "text/plain": [
       "4"
      ]
     },
     "execution_count": 11,
     "metadata": {},
     "output_type": "execute_result"
    }
   ],
   "source": [
    "dot([1;1],[2;2])"
   ]
  },
  {
   "cell_type": "code",
   "execution_count": 12,
   "metadata": {},
   "outputs": [
    {
     "data": {
      "text/plain": [
       "0 - 2im"
      ]
     },
     "execution_count": 12,
     "metadata": {},
     "output_type": "execute_result"
    }
   ],
   "source": [
    "dot([im;im],[1;1])"
   ]
  },
  {
   "cell_type": "code",
   "execution_count": 14,
   "metadata": {},
   "outputs": [
    {
     "data": {
      "text/plain": [
       "150.0"
      ]
     },
     "execution_count": 14,
     "metadata": {},
     "output_type": "execute_result"
    }
   ],
   "source": [
    "x = fill(2.,(5,5));\n",
    "y = fill(3.,(5,5));\n",
    "dot(x,y)"
   ]
  },
  {
   "cell_type": "markdown",
   "metadata": {},
   "source": [
    "`dot(x,A,y)`\n",
    "\n",
    "Calcula la operación `dot(x,A*y)` entre dos vectores `x` y `y` sin tener que almacenar el resultado dde `A*y`."
   ]
  },
  {
   "cell_type": "code",
   "execution_count": 15,
   "metadata": {},
   "outputs": [
    {
     "data": {
      "text/plain": [
       "26"
      ]
     },
     "execution_count": 15,
     "metadata": {},
     "output_type": "execute_result"
    }
   ],
   "source": [
    "dot([1;1],[1 2; 3 4],[2;3])"
   ]
  },
  {
   "cell_type": "markdown",
   "metadata": {},
   "source": [
    "`cross(x,y)`\n",
    "\n",
    "$\\times$`(x,y)`\n",
    "\n",
    "Calcula el producto cruz entre dos vectores de dimensión 3."
   ]
  },
  {
   "cell_type": "code",
   "execution_count": 17,
   "metadata": {},
   "outputs": [
    {
     "data": {
      "text/plain": [
       "3-element Vector{Int64}:\n",
       " 1\n",
       " 0\n",
       " 0"
      ]
     },
     "execution_count": 17,
     "metadata": {},
     "output_type": "execute_result"
    }
   ],
   "source": [
    "a = [0;1;0]\n",
    "b = [0;0;1]\n",
    "cross(a,b)"
   ]
  },
  {
   "cell_type": "markdown",
   "metadata": {},
   "source": [
    "`factorize(A)`\n",
    "\n",
    "Calcula una factorización conveniente de A, basándose en el tipo de la matriz de entrada. La función revisa si `A` es simétrica/triangular/etc. Obtendrá la factorización tan pronto sepa la estructura de la matriz. El valor regresado puede ser reutilizado para resolver sistemas de manera eficiente.\n",
    "\n",
    "|**Propiedades de A**|**Tipo de Factorización**|\n",
    "|--------------------|-------------------------|\n",
    "|Positiva Definida|Cholesky|\n",
    "|Hermitiana/Simétrica Densa| Bunch-Kaufman|\n",
    "|Hermitiana/Simétrica Dispersa| LDLt|\n",
    "|Triangular| Triangular|\n",
    "|Diagonal| Diagonal|\n",
    "|Bidiagonal|Bidiagonal|\n",
    "|Tridiagonal|LU|\n",
    "|Simétrica real tridiagonal|LDLt|\n",
    "|General Cuadrada| LU|\n",
    "|General no Cuadrada| QR|\n"
   ]
  },
  {
   "cell_type": "code",
   "execution_count": 19,
   "metadata": {},
   "outputs": [
    {
     "data": {
      "text/plain": [
       "5×5 Matrix{Float64}:\n",
       " 1.0  1.0  0.0  0.0  0.0\n",
       " 0.0  1.0  1.0  0.0  0.0\n",
       " 0.0  0.0  1.0  1.0  0.0\n",
       " 0.0  0.0  0.0  1.0  1.0\n",
       " 0.0  0.0  0.0  0.0  1.0"
      ]
     },
     "execution_count": 19,
     "metadata": {},
     "output_type": "execute_result"
    }
   ],
   "source": [
    "A = Array(Bidiagonal(fill(1.0,(5,5)), :U))"
   ]
  },
  {
   "cell_type": "code",
   "execution_count": 20,
   "metadata": {},
   "outputs": [
    {
     "data": {
      "text/plain": [
       "5×5 Bidiagonal{Float64, Vector{Float64}}:\n",
       " 1.0  1.0   ⋅    ⋅    ⋅ \n",
       "  ⋅   1.0  1.0   ⋅    ⋅ \n",
       "  ⋅    ⋅   1.0  1.0   ⋅ \n",
       "  ⋅    ⋅    ⋅   1.0  1.0\n",
       "  ⋅    ⋅    ⋅    ⋅   1.0"
      ]
     },
     "execution_count": 20,
     "metadata": {},
     "output_type": "execute_result"
    }
   ],
   "source": [
    "factorize(A)"
   ]
  },
  {
   "cell_type": "markdown",
   "metadata": {},
   "source": [
    "`Diagonal(V::AbstractVector)`\n",
    "\n",
    "Construye una matriz diagonal usando a `V` como su diagonal."
   ]
  },
  {
   "cell_type": "code",
   "execution_count": 21,
   "metadata": {},
   "outputs": [
    {
     "data": {
      "text/plain": [
       "3×3 Diagonal{Int64, Vector{Int64}}:\n",
       " 1   ⋅    ⋅\n",
       " ⋅  10    ⋅\n",
       " ⋅   ⋅  100"
      ]
     },
     "execution_count": 21,
     "metadata": {},
     "output_type": "execute_result"
    }
   ],
   "source": [
    "Diagonal([1,10,100])"
   ]
  },
  {
   "cell_type": "markdown",
   "metadata": {},
   "source": [
    "`Bidiagonal(dv::V, ev::V, uplo::Symbol)` **where** `V <: AbstractVector`\n",
    "\n",
    "Construye una matriz bidiagonal superior (`uplo=:U`) o inferior (`uplo=:L`) usando los vectores como la diagonal (`dv`) y las subdiagional (`ev`). El resultado es del tipo `Bidiagonal` y puede ser muy eficiente al utilizarlo con algunos resolvedores (solvers)."
   ]
  },
  {
   "cell_type": "code",
   "execution_count": 22,
   "metadata": {},
   "outputs": [
    {
     "data": {
      "text/plain": [
       "4×4 Bidiagonal{Int64, Vector{Int64}}:\n",
       " 1  7  ⋅  ⋅\n",
       " ⋅  2  8  ⋅\n",
       " ⋅  ⋅  3  9\n",
       " ⋅  ⋅  ⋅  4"
      ]
     },
     "execution_count": 22,
     "metadata": {},
     "output_type": "execute_result"
    }
   ],
   "source": [
    "dv = [1,2,3,4]\n",
    "ev = [7,8,9]\n",
    "\n",
    "Bu = Bidiagonal(dv,ev,:U)"
   ]
  },
  {
   "cell_type": "code",
   "execution_count": 23,
   "metadata": {},
   "outputs": [
    {
     "data": {
      "text/plain": [
       "4×4 Bidiagonal{Int64, Vector{Int64}}:\n",
       " 1  ⋅  ⋅  ⋅\n",
       " 7  2  ⋅  ⋅\n",
       " ⋅  8  3  ⋅\n",
       " ⋅  ⋅  9  4"
      ]
     },
     "execution_count": 23,
     "metadata": {},
     "output_type": "execute_result"
    }
   ],
   "source": [
    "Bl = Bidiagonal(dv,ev,:L)"
   ]
  },
  {
   "cell_type": "code",
   "execution_count": 3,
   "metadata": {},
   "outputs": [
    {
     "data": {
      "text/plain": [
       "4×4 Bidiagonal{Int64, Vector{Int64}}:\n",
       " 1  1  ⋅  ⋅\n",
       " ⋅  2  2  ⋅\n",
       " ⋅  ⋅  3  3\n",
       " ⋅  ⋅  ⋅  4"
      ]
     },
     "execution_count": 3,
     "metadata": {},
     "output_type": "execute_result"
    }
   ],
   "source": [
    "A = [1 1 1 1;2 2 2 2;3 3 3 3;4 4 4 4];\n",
    "Bidiagonal(A,:U)"
   ]
  },
  {
   "cell_type": "markdown",
   "metadata": {},
   "source": [
    "`SymTridiagonal(dv::V, ev::V)` **where** `V <: AbstractVector`\n",
    "\n",
    "`SymTridiagonal(A::AbstractMatrix)`\n",
    "\n",
    "Construye una matriz simétrica tridiagonal de la diagonal (`dv`) y la primer diagonal superior/inferior (`ev`). El resultado es del tipo `SymTridiagional` y provee calculadores de Eigenvalores especiales."
   ]
  },
  {
   "cell_type": "code",
   "execution_count": 4,
   "metadata": {},
   "outputs": [
    {
     "data": {
      "text/plain": [
       "4×4 SymTridiagonal{Int64, Vector{Int64}}:\n",
       " 1  7  ⋅  ⋅\n",
       " 7  2  8  ⋅\n",
       " ⋅  8  3  9\n",
       " ⋅  ⋅  9  4"
      ]
     },
     "execution_count": 4,
     "metadata": {},
     "output_type": "execute_result"
    }
   ],
   "source": [
    "dv = [1,2,3,4];\n",
    "ev = [7,8,9];\n",
    "SymTridiagonal(dv,ev)"
   ]
  },
  {
   "cell_type": "code",
   "execution_count": 5,
   "metadata": {},
   "outputs": [
    {
     "data": {
      "text/plain": [
       "3×3 SymTridiagonal{Int64, Vector{Int64}}:\n",
       " 1  2  ⋅\n",
       " 2  4  5\n",
       " ⋅  5  6"
      ]
     },
     "execution_count": 5,
     "metadata": {},
     "output_type": "execute_result"
    }
   ],
   "source": [
    "A = [1 2 3; 2 4 5; 3 5 6]\n",
    "SymTridiagonal(A)"
   ]
  },
  {
   "cell_type": "markdown",
   "metadata": {},
   "source": [
    "`Tridiagonal(dl::V, d::V, du::V)` **where** `V <: AbstractVector`\n",
    "\n",
    "`Tridiagonal(A::AbstractMatrix)`\n",
    "\n",
    "Construye una matriz tridiagonal de la subdiagonal, diagonal y superdiagonal brindadas como parámetro o de la matriz dada. El resultado es de tipo `Tridiagonal` y provee calculadores eficientes especializados para resolver sistemas lineales."
   ]
  },
  {
   "cell_type": "code",
   "execution_count": 6,
   "metadata": {},
   "outputs": [
    {
     "data": {
      "text/plain": [
       "4×4 Tridiagonal{Int64, Vector{Int64}}:\n",
       " 7  4  ⋅  ⋅\n",
       " 1  8  5  ⋅\n",
       " ⋅  2  9  6\n",
       " ⋅  ⋅  3  0"
      ]
     },
     "execution_count": 6,
     "metadata": {},
     "output_type": "execute_result"
    }
   ],
   "source": [
    "dl = [1,2,3];\n",
    "du = [4,5,6];\n",
    "d  = [7,8,9,0];\n",
    "Tridiagonal(dl,d,du)"
   ]
  },
  {
   "cell_type": "code",
   "execution_count": 8,
   "metadata": {},
   "outputs": [
    {
     "data": {
      "text/plain": [
       "4×4 Tridiagonal{Int64, Vector{Int64}}:\n",
       " 1  2  ⋅  ⋅\n",
       " 1  2  3  ⋅\n",
       " ⋅  2  3  4\n",
       " ⋅  ⋅  3  4"
      ]
     },
     "execution_count": 8,
     "metadata": {},
     "output_type": "execute_result"
    }
   ],
   "source": [
    "A = [1 2 3 4;1 2 3 4;1 2 3 4;1 2 3 4]\n",
    "Tridiagonal(A)"
   ]
  },
  {
   "cell_type": "markdown",
   "metadata": {},
   "source": [
    "`Symmetric(A, uplo=::Symbol)`\n",
    "\n",
    "Construye una matriz del tipo `Symmetric` a partir de la matriz `A` usando la parte superior (si `uplo = :U`) o la parte inferior (si `uplo = :L`)."
   ]
  },
  {
   "cell_type": "code",
   "execution_count": 9,
   "metadata": {},
   "outputs": [
    {
     "data": {
      "text/plain": [
       "5×5 Matrix{Int64}:\n",
       " 1  0  2  0  3\n",
       " 0  4  0  5  0\n",
       " 6  0  7  0  8\n",
       " 0  9  0  1  0\n",
       " 2  0  3  0  4"
      ]
     },
     "execution_count": 9,
     "metadata": {},
     "output_type": "execute_result"
    }
   ],
   "source": [
    "A = [1 0 2 0 3; 0 4 0 5 0; 6 0 7 0 8; 0 9 0 1 0; 2 0 3 0 4]"
   ]
  },
  {
   "cell_type": "code",
   "execution_count": 10,
   "metadata": {},
   "outputs": [
    {
     "data": {
      "text/plain": [
       "5×5 Symmetric{Int64, Matrix{Int64}}:\n",
       " 1  0  2  0  3\n",
       " 0  4  0  5  0\n",
       " 2  0  7  0  8\n",
       " 0  5  0  1  0\n",
       " 3  0  8  0  4"
      ]
     },
     "execution_count": 10,
     "metadata": {},
     "output_type": "execute_result"
    }
   ],
   "source": [
    "su = Symmetric(A)"
   ]
  },
  {
   "cell_type": "code",
   "execution_count": 11,
   "metadata": {},
   "outputs": [
    {
     "data": {
      "text/plain": [
       "5×5 Symmetric{Int64, Matrix{Int64}}:\n",
       " 1  0  6  0  2\n",
       " 0  4  0  9  0\n",
       " 6  0  7  0  3\n",
       " 0  9  0  1  0\n",
       " 2  0  3  0  4"
      ]
     },
     "execution_count": 11,
     "metadata": {},
     "output_type": "execute_result"
    }
   ],
   "source": [
    "lo = Symmetric(A, :L)"
   ]
  },
  {
   "cell_type": "markdown",
   "metadata": {},
   "source": [
    "`Hermitian(A, uplo::Symbol)`\n",
    "\n",
    "Construye una matriz de tipo `Hermitian` con la mitad superior (si `uplo=:U`) o la mitad inferior (si `uplo=:L`) de la matriz `A`."
   ]
  },
  {
   "cell_type": "code",
   "execution_count": 12,
   "metadata": {},
   "outputs": [
    {
     "data": {
      "text/plain": [
       "5×5 Matrix{Complex{Int64}}:\n",
       " 1+0im  0+0im  2+2im  0+0im  3-3im\n",
       " 0+0im  4+0im  0+0im  5+0im  0+0im\n",
       " 6-6im  0+0im  7+0im  0+0im  8+8im\n",
       " 0+0im  9+0im  0+0im  1+0im  0+0im\n",
       " 2+2im  0+0im  3-3im  0+0im  4+0im"
      ]
     },
     "execution_count": 12,
     "metadata": {},
     "output_type": "execute_result"
    }
   ],
   "source": [
    "A = [1 0 2+2im 0 3-3im; 0 4 0 5 0; 6-6im 0 7 0 8+8im; 0 9 0 1 0;2+2im 0 3-3im 0 4 ]\n"
   ]
  },
  {
   "cell_type": "code",
   "execution_count": 13,
   "metadata": {},
   "outputs": [
    {
     "data": {
      "text/plain": [
       "5×5 Hermitian{Complex{Int64}, Matrix{Complex{Int64}}}:\n",
       " 1+0im  0+0im  2+2im  0+0im  3-3im\n",
       " 0+0im  4+0im  0+0im  5+0im  0+0im\n",
       " 2-2im  0+0im  7+0im  0+0im  8+8im\n",
       " 0+0im  5+0im  0+0im  1+0im  0+0im\n",
       " 3+3im  0+0im  8-8im  0+0im  4+0im"
      ]
     },
     "execution_count": 13,
     "metadata": {},
     "output_type": "execute_result"
    }
   ],
   "source": [
    "hu = Hermitian(A)"
   ]
  },
  {
   "cell_type": "code",
   "execution_count": 15,
   "metadata": {},
   "outputs": [
    {
     "data": {
      "text/plain": [
       "5×5 Hermitian{Complex{Int64}, Matrix{Complex{Int64}}}:\n",
       " 1+0im  0+0im  6+6im  0+0im  2-2im\n",
       " 0+0im  4+0im  0+0im  9+0im  0+0im\n",
       " 6-6im  0+0im  7+0im  0+0im  3+3im\n",
       " 0+0im  9+0im  0+0im  1+0im  0+0im\n",
       " 2+2im  0+0im  3-3im  0+0im  4+0im"
      ]
     },
     "execution_count": 15,
     "metadata": {},
     "output_type": "execute_result"
    }
   ],
   "source": [
    "hl = Hermitian(A,:L)"
   ]
  },
  {
   "cell_type": "markdown",
   "metadata": {},
   "source": [
    "`LowerTriangular(A::AbstractMatrix)`\n",
    "\n",
    "Construye una matriz triangular inferior a partir de la matriz `A`."
   ]
  },
  {
   "cell_type": "code",
   "execution_count": 16,
   "metadata": {},
   "outputs": [
    {
     "data": {
      "text/plain": [
       "3×3 LowerTriangular{Float64, Matrix{Float64}}:\n",
       " 1.0   ⋅    ⋅ \n",
       " 4.0  5.0   ⋅ \n",
       " 7.0  8.0  9.0"
      ]
     },
     "execution_count": 16,
     "metadata": {},
     "output_type": "execute_result"
    }
   ],
   "source": [
    "A = [1.0 2.0 3.0;4.0 5.0 6.0;7.0 8.0 9.0];\n",
    "LowerTriangular(A)"
   ]
  },
  {
   "cell_type": "markdown",
   "metadata": {},
   "source": [
    "`UpperTriangular(A::AbstractMatrix)`\n",
    "\n",
    "Construye una matriz triangular superior a partir de la matriz `A`."
   ]
  },
  {
   "cell_type": "code",
   "execution_count": 17,
   "metadata": {},
   "outputs": [
    {
     "data": {
      "text/plain": [
       "3×3 UpperTriangular{Float64, Matrix{Float64}}:\n",
       " 1.0  2.0  3.0\n",
       "  ⋅   5.0  6.0\n",
       "  ⋅    ⋅   9.0"
      ]
     },
     "execution_count": 17,
     "metadata": {},
     "output_type": "execute_result"
    }
   ],
   "source": [
    "UpperTriangular(A)"
   ]
  },
  {
   "cell_type": "markdown",
   "metadata": {},
   "source": [
    "`UnitLowerTriangular(A::AbstractMatrix)`\n",
    "\n",
    "Construye una matriz triangular inferior unitaria a partir de la matriz `A`."
   ]
  },
  {
   "cell_type": "code",
   "execution_count": 18,
   "metadata": {},
   "outputs": [
    {
     "data": {
      "text/plain": [
       "3×3 UnitLowerTriangular{Float64, Matrix{Float64}}:\n",
       " 1.0   ⋅    ⋅ \n",
       " 4.0  1.0   ⋅ \n",
       " 7.0  8.0  1.0"
      ]
     },
     "execution_count": 18,
     "metadata": {},
     "output_type": "execute_result"
    }
   ],
   "source": [
    "UnitLowerTriangular(A)"
   ]
  },
  {
   "cell_type": "markdown",
   "metadata": {},
   "source": [
    "`UnitUpperTriangular(A::AbstractMatrix)`\n",
    "\n",
    "Construye una matriz triangular superior unitaria a partir de la matriz `A`."
   ]
  },
  {
   "cell_type": "code",
   "execution_count": 19,
   "metadata": {},
   "outputs": [
    {
     "data": {
      "text/plain": [
       "3×3 UnitUpperTriangular{Float64, Matrix{Float64}}:\n",
       " 1.0  2.0  3.0\n",
       "  ⋅   1.0  6.0\n",
       "  ⋅    ⋅   1.0"
      ]
     },
     "execution_count": 19,
     "metadata": {},
     "output_type": "execute_result"
    }
   ],
   "source": [
    "UnitUpperTriangular(A)"
   ]
  },
  {
   "cell_type": "markdown",
   "metadata": {},
   "source": [
    "`UpperHessenberg(A::AbstractMatrix)`\n",
    "\n",
    "Construye una matriz superior Hessenberg con la matriz `A`. Hay algoritmos implementados de manera eficiente para resolver operaciones como `H \\ b`, `det(H)` y similares."
   ]
  },
  {
   "cell_type": "code",
   "execution_count": 20,
   "metadata": {},
   "outputs": [
    {
     "data": {
      "text/plain": [
       "4×4 UpperHessenberg{Int64, Matrix{Int64}}:\n",
       " 1   2   3   4\n",
       " 5   6   7   8\n",
       " ⋅  10  11  12\n",
       " ⋅   ⋅  15  16"
      ]
     },
     "execution_count": 20,
     "metadata": {},
     "output_type": "execute_result"
    }
   ],
   "source": [
    "A = [1 2 3 4; 5 6 7 8; 9 10 11 12; 13 14 15 16];\n",
    "UpperHessenberg(A)"
   ]
  },
  {
   "cell_type": "markdown",
   "metadata": {},
   "source": [
    "## `Factorization` - Tipo\n",
    "\n",
    "Tipo *abstracto* para la **factorización de matrices** y sus descomposiciones.\n",
    "\n",
    "### `LU <: Factorizacion` - Tipo\n",
    "\n",
    "La factorización LU permite descomponer una matriz como el producto de una matriz triangular inferior y una superior.\n",
    "\n",
    "> Sea $A$ una matriz no singular, tenemos que \n",
    ">\n",
    "> $A = LU$\n",
    ">\n",
    "> Donde $L$ y $U$ son matrices inferiores y superiores triangulares respectivamente.\n",
    "\n",
    "Factorización de matriz del tipo `LU` de la matriz cuadrada `A`. Es el tipo de dato que regresa la función de factorización `lu()`.\n",
    "Los componentes de la factorización `F::LU` se pueden acceder:\n",
    "\n",
    "|**Componente**|**Descripción**|\n",
    "|--------------|---------------|\n",
    "|`F.L`|`L`(triangular unitaria inferior) de la factorización `LU`|\n",
    "|`F.U`|`U`(triangular superior) de la factorización `LU`|\n",
    "|`F.p`| `Vector` de permutación (derecha)|\n",
    "|`F.P`|`Matrix` de permutación (derecha)|\n"
   ]
  },
  {
   "cell_type": "code",
   "execution_count": 21,
   "metadata": {},
   "outputs": [
    {
     "data": {
      "text/plain": [
       "LU{Float64, Matrix{Float64}}\n",
       "L factor:\n",
       "2×2 Matrix{Float64}:\n",
       " 1.0       0.0\n",
       " 0.666667  1.0\n",
       "U factor:\n",
       "2×2 Matrix{Float64}:\n",
       " 6.0  3.0\n",
       " 0.0  1.0"
      ]
     },
     "execution_count": 21,
     "metadata": {},
     "output_type": "execute_result"
    }
   ],
   "source": [
    "A = [4 3; 6 3]\n",
    "F = lu(A)"
   ]
  },
  {
   "cell_type": "code",
   "execution_count": 22,
   "metadata": {},
   "outputs": [
    {
     "data": {
      "text/plain": [
       "true"
      ]
     },
     "execution_count": 22,
     "metadata": {},
     "output_type": "execute_result"
    }
   ],
   "source": [
    "F.L * F.U == A[F.p, :]"
   ]
  }
 ],
 "metadata": {
  "kernelspec": {
   "display_name": "Julia 1.6.5",
   "language": "julia",
   "name": "julia-1.6"
  },
  "language_info": {
   "file_extension": ".jl",
   "mimetype": "application/julia",
   "name": "julia",
   "version": "1.6.5"
  },
  "orig_nbformat": 4
 },
 "nbformat": 4,
 "nbformat_minor": 2
}
