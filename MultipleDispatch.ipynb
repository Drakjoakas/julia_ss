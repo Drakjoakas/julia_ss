{
 "cells": [
  {
   "cell_type": "markdown",
   "metadata": {},
   "source": [
    "# Multiple-Dispatch o Despacho múltiple\n",
    "\n",
    "En Julia, todas las funciones son genéricas, lo que significa que son construidas a partir de muchos métodos pequeños.\n",
    "\n",
    "Revisemos esto con tipos de datos definidos por el usuario."
   ]
  },
  {
   "cell_type": "code",
   "execution_count": 20,
   "metadata": {},
   "outputs": [
    {
     "data": {
      "text/plain": [
       "Leon"
      ]
     },
     "execution_count": 20,
     "metadata": {},
     "output_type": "execute_result"
    }
   ],
   "source": [
    "struct Tigre\n",
    "    tamañoCola::Float64\n",
    "    color\n",
    "end\n",
    "\n",
    "abstract type Gato end\n",
    "\n",
    "struct Leon <: Gato\n",
    "    color::AbstractString\n",
    "    rugido::AbstractString\n",
    "end\n",
    "\n",
    "struct Pantera <: Gato\n",
    "    colorDeOjos::AbstractString\n",
    "    Pantera()=new(\"Verde\")\n",
    "end\n",
    "\n",
    "Leon(rugido::AbstractString) = Leon(\"Amarillo Ocre\",rugido)"
   ]
  },
  {
   "cell_type": "code",
   "execution_count": 2,
   "metadata": {},
   "outputs": [
    {
     "data": {
      "text/plain": [
       "meow (generic function with 3 methods)"
      ]
     },
     "execution_count": 2,
     "metadata": {},
     "output_type": "execute_result"
    }
   ],
   "source": [
    "function meow(animal::Leon)\n",
    "    animal.rugido\n",
    "end\n",
    "\n",
    "function meow(animal::Pantera)\n",
    "    \"Grrrr\"\n",
    "end\n",
    "\n",
    "function meow(animal::Tigre)\n",
    "    \"raaawr\"\n",
    "end"
   ]
  },
  {
   "cell_type": "code",
   "execution_count": 13,
   "metadata": {},
   "outputs": [
    {
     "data": {
      "text/plain": [
       "\"Roaar\""
      ]
     },
     "execution_count": 13,
     "metadata": {},
     "output_type": "execute_result"
    }
   ],
   "source": [
    "meow(Leon(\"Amarillo\",\"Roaar\"))"
   ]
  },
  {
   "cell_type": "code",
   "execution_count": 5,
   "metadata": {},
   "outputs": [
    {
     "data": {
      "text/plain": [
       "\"raaawr\""
      ]
     },
     "execution_count": 5,
     "metadata": {},
     "output_type": "execute_result"
    }
   ],
   "source": [
    "meow(Tigre(45.6,\"Naranja\"))"
   ]
  },
  {
   "cell_type": "code",
   "execution_count": 7,
   "metadata": {},
   "outputs": [
    {
     "data": {
      "text/plain": [
       "\"Grrrr\""
      ]
     },
     "execution_count": 7,
     "metadata": {},
     "output_type": "execute_result"
    }
   ],
   "source": [
    "meow(Pantera())"
   ]
  },
  {
   "cell_type": "markdown",
   "metadata": {},
   "source": [
    "Ahora definiremos una función que acepte el tipo de dato abstracto `Gato`. Recordemos que el tipo `Tigre` no es un subtipo de `Gato`."
   ]
  },
  {
   "cell_type": "code",
   "execution_count": 8,
   "metadata": {},
   "outputs": [
    {
     "data": {
      "text/plain": [
       "acariciar_gato (generic function with 1 method)"
      ]
     },
     "execution_count": 8,
     "metadata": {},
     "output_type": "execute_result"
    }
   ],
   "source": [
    "function acariciar_gato(gato::Gato)\n",
    "    println(\"El gato dice $(meow(gato))\")\n",
    "end"
   ]
  },
  {
   "cell_type": "code",
   "execution_count": 9,
   "metadata": {},
   "outputs": [
    {
     "name": "stdout",
     "output_type": "stream",
     "text": [
      "El gato dice 42\n"
     ]
    }
   ],
   "source": [
    "acariciar_gato(Leon(\"Blanco\",\"42\"))"
   ]
  },
  {
   "cell_type": "code",
   "execution_count": 10,
   "metadata": {},
   "outputs": [
    {
     "name": "stdout",
     "output_type": "stream",
     "text": [
      "MethodError(acariciar_gato, (Tigre(60.0, \"Amarillo\"),), 0x00000000000073f7)\n"
     ]
    }
   ],
   "source": [
    "try\n",
    "    acariciar_gato(Tigre(60.0,\"Amarillo\"))\n",
    "catch e \n",
    "    println(e)\n",
    "end"
   ]
  },
  {
   "cell_type": "markdown",
   "metadata": {},
   "source": [
    "En lenguajes *orientados a objetos* es común usar el **despacho singular**; esto significa que el método se elige basándose en el tipo del primer argumento.\n",
    "\n",
    "En Julia, todos los tipos de los argumentos contribuyen a elegir el mejor método."
   ]
  },
  {
   "cell_type": "code",
   "execution_count": 11,
   "metadata": {},
   "outputs": [
    {
     "data": {
      "text/plain": [
       "Pantera(\"Verde\")"
      ]
     },
     "execution_count": 11,
     "metadata": {},
     "output_type": "execute_result"
    }
   ],
   "source": [
    "tiger   = Tigre(45.6,\"Naranja\")\n",
    "simba   = Leon(\"Amarillo\",\"Maaaaasigueña\")\n",
    "tchalla = Pantera()"
   ]
  },
  {
   "cell_type": "code",
   "execution_count": 14,
   "metadata": {},
   "outputs": [
    {
     "data": {
      "text/plain": [
       "pelea (generic function with 1 method)"
      ]
     },
     "execution_count": 14,
     "metadata": {},
     "output_type": "execute_result"
    }
   ],
   "source": [
    "function pelea(t::Tigre,g::Gato)\n",
    "    println(\"El tigre $(t.color) gana la pelea!\")\n",
    "end"
   ]
  },
  {
   "cell_type": "code",
   "execution_count": 15,
   "metadata": {},
   "outputs": [
    {
     "name": "stdout",
     "output_type": "stream",
     "text": [
      "El tigre Naranja gana la pelea!\n",
      "El tigre Naranja gana la pelea!\n"
     ]
    }
   ],
   "source": [
    "pelea(tiger,simba)\n",
    "pelea(tiger,tchalla)"
   ]
  },
  {
   "cell_type": "markdown",
   "metadata": {},
   "source": [
    "Ahora, cambiemos el comportamiento en caso de que pelee contra un `Leon`."
   ]
  },
  {
   "cell_type": "code",
   "execution_count": 16,
   "metadata": {},
   "outputs": [
    {
     "data": {
      "text/plain": [
       "pelea (generic function with 2 methods)"
      ]
     },
     "execution_count": 16,
     "metadata": {},
     "output_type": "execute_result"
    }
   ],
   "source": [
    "pelea(t::Tigre,l::Leon) = println(\"El leon $(l.color) gana la pelea!!\")"
   ]
  },
  {
   "cell_type": "code",
   "execution_count": 17,
   "metadata": {},
   "outputs": [
    {
     "name": "stdout",
     "output_type": "stream",
     "text": [
      "El tigre Naranja gana la pelea!\n",
      "El leon Amarillo gana la pelea!!\n"
     ]
    }
   ],
   "source": [
    "pelea(tiger,tchalla)\n",
    "pelea(tiger,simba)"
   ]
  },
  {
   "cell_type": "markdown",
   "metadata": {},
   "source": [
    "Podemos seguir definiendo funciones cambiando los tipos de datos, pero esto puede resultar en llamadas a funciones ambiguas."
   ]
  },
  {
   "cell_type": "code",
   "execution_count": 19,
   "metadata": {},
   "outputs": [
    {
     "data": {
      "text/plain": [
       "pelea (generic function with 4 methods)"
      ]
     },
     "execution_count": 19,
     "metadata": {},
     "output_type": "execute_result"
    }
   ],
   "source": [
    "pelea(l::Leon,g::Gato) = println(\"El gato vencedor dice $(meow(g))\")\n",
    "pelea(g::Gato,l::Leon) = println(\"El gato ha vencido al león.\")"
   ]
  },
  {
   "cell_type": "code",
   "execution_count": 21,
   "metadata": {},
   "outputs": [
    {
     "ename": "LoadError",
     "evalue": "MethodError: pelea(::Leon, ::Leon) is ambiguous. Candidates:\n  pelea(l::Leon, g::Gato) in Main at In[19]:1\n  pelea(g::Gato, l::Leon) in Main at In[19]:2\nPossible fix, define\n  pelea(::\u001b[0mLeon, ::\u001b[0mLeon)",
     "output_type": "error",
     "traceback": [
      "MethodError: pelea(::Leon, ::Leon) is ambiguous. Candidates:\n  pelea(l::Leon, g::Gato) in Main at In[19]:1\n  pelea(g::Gato, l::Leon) in Main at In[19]:2\nPossible fix, define\n  pelea(::\u001b[0mLeon, ::\u001b[0mLeon)",
      "",
      "Stacktrace:",
      " [1] top-level scope",
      "   @ In[21]:1",
      " [2] eval",
      "   @ .\\boot.jl:360 [inlined]",
      " [3] include_string(mapexpr::typeof(REPL.softscope), mod::Module, code::String, filename::String)",
      "   @ Base .\\loading.jl:1116"
     ]
    }
   ],
   "source": [
    "pelea(Leon(\"Ajuaaa\"),Leon(\"Rawr\"))"
   ]
  },
  {
   "cell_type": "code",
   "execution_count": 22,
   "metadata": {},
   "outputs": [
    {
     "data": {
      "text/plain": [
       "pelea (generic function with 5 methods)"
      ]
     },
     "execution_count": 22,
     "metadata": {},
     "output_type": "execute_result"
    }
   ],
   "source": [
    "pelea(l1::Leon,l2::Leon) = println(\"Los leones han empatado\")"
   ]
  },
  {
   "cell_type": "code",
   "execution_count": 23,
   "metadata": {},
   "outputs": [
    {
     "name": "stdout",
     "output_type": "stream",
     "text": [
      "Los leones han empatado\n"
     ]
    }
   ],
   "source": [
    "pelea(Leon(\"Hola\"),Leon(\"Mundo\"))"
   ]
  }
 ],
 "metadata": {
  "kernelspec": {
   "display_name": "Julia 1.6.5",
   "language": "julia",
   "name": "julia-1.6"
  },
  "language_info": {
   "file_extension": ".jl",
   "mimetype": "application/julia",
   "name": "julia",
   "version": "1.6.5"
  },
  "orig_nbformat": 4
 },
 "nbformat": 4,
 "nbformat_minor": 2
}
