{
 "cells": [
  {
   "cell_type": "markdown",
   "metadata": {},
   "source": [
    "## Tipos de Datos\n",
    "\n",
    "Julia tiene un sistema de tipos de datos. La variable en sí no tiene un tipo de dato asignado. Los **valores** sí lo tienen.\n",
    "Se puede usar la función `typeof()` para obtener el tipo de dato de un valor."
   ]
  },
  {
   "cell_type": "code",
   "execution_count": 2,
   "metadata": {},
   "outputs": [
    {
     "data": {
      "text/plain": [
       "Int64"
      ]
     },
     "execution_count": 2,
     "metadata": {},
     "output_type": "execute_result"
    }
   ],
   "source": [
    "typeof(5)"
   ]
  },
  {
   "cell_type": "markdown",
   "metadata": {},
   "source": [
    "Los tipos en sí son valores de primera clase."
   ]
  },
  {
   "cell_type": "code",
   "execution_count": 4,
   "metadata": {},
   "outputs": [
    {
     "name": "stdout",
     "output_type": "stream",
     "text": [
      "DataType\n"
     ]
    },
    {
     "data": {
      "text/plain": [
       "DataType"
      ]
     },
     "execution_count": 4,
     "metadata": {},
     "output_type": "execute_result"
    }
   ],
   "source": [
    "println(typeof(Int64))\n",
    "typeof(DataType)"
   ]
  },
  {
   "cell_type": "markdown",
   "metadata": {},
   "source": [
    "El tipo de dato `DataType` representa por sí mismo a los tipos de datos, incluído sí mismo.\n",
    "\n",
    "Los tipos de datos no son estáticos. Se utilizan para **documentación, optimización y despliegue**.\n",
    "\n",
    "Los usuarios pueden definir sus propios tipos de datos. Para hacerlo, se utiliza la palabra clave `struct`."
   ]
  },
  {
   "cell_type": "code",
   "execution_count": 5,
   "metadata": {},
   "outputs": [],
   "source": [
    "struct punto2D\n",
    "    x::Float64\n",
    "    y::Float64\n",
    "end"
   ]
  },
  {
   "cell_type": "markdown",
   "metadata": {},
   "source": [
    "En este caso, indicamos el tipo de los campos del nuevo tipo de dato. Si no se indica, julia lo interpreta como el `Any`.\n",
    "\n",
    "El constructor por defecto recibe como argumentos los campos en el orden en que se definieron."
   ]
  },
  {
   "cell_type": "code",
   "execution_count": 6,
   "metadata": {},
   "outputs": [
    {
     "data": {
      "text/plain": [
       "punto2D(1.0, 2.1)"
      ]
     },
     "execution_count": 6,
     "metadata": {},
     "output_type": "execute_result"
    }
   ],
   "source": [
    "p1 = punto2D(1.0,2.1)"
   ]
  },
  {
   "cell_type": "markdown",
   "metadata": {},
   "source": [
    "Este tipo de datos se llaman **tipos concretos**. Pueden ser instanciados, pero no pueden tener subtipos.\n",
    "\n",
    "El otro tipo de datos que se puede definir se llaman **tipos abstractos**."
   ]
  },
  {
   "cell_type": "code",
   "execution_count": 7,
   "metadata": {},
   "outputs": [],
   "source": [
    "abstract type Gato end"
   ]
  },
  {
   "cell_type": "markdown",
   "metadata": {},
   "source": [
    "Los tipos abstractos no pueden ser instanciados, pero pueden tener subtipos.\n",
    "\n",
    "por ejemplo, el tipo `Number` es un tipo abstracto."
   ]
  },
  {
   "cell_type": "code",
   "execution_count": 9,
   "metadata": {},
   "outputs": [
    {
     "data": {
      "text/plain": [
       "2-element Vector{Any}:\n",
       " Complex\n",
       " Real"
      ]
     },
     "execution_count": 9,
     "metadata": {},
     "output_type": "execute_result"
    }
   ],
   "source": [
    "subtypes(Number)"
   ]
  },
  {
   "cell_type": "markdown",
   "metadata": {},
   "source": [
    "Cada tipo tiene un **super-tipo**. Se puede usar la función `supertype` para obtenerlo."
   ]
  },
  {
   "cell_type": "code",
   "execution_count": 10,
   "metadata": {},
   "outputs": [
    {
     "name": "stdout",
     "output_type": "stream",
     "text": [
      "Int64\n",
      "Signed\n",
      "Integer\n",
      "Real\n",
      "Number\n"
     ]
    }
   ],
   "source": [
    "x = typeof(5)\n",
    "while x != Any \n",
    "   println(x)\n",
    "   x = supertype(x) \n",
    "end"
   ]
  },
  {
   "cell_type": "markdown",
   "metadata": {},
   "source": [
    "De todos los anteriores, solamente `Int64` son tipos abstractos.\n",
    "\n",
    "El operador `<:` indica un subtipo."
   ]
  },
  {
   "cell_type": "code",
   "execution_count": 11,
   "metadata": {},
   "outputs": [],
   "source": [
    "struct Leon <: Gato\n",
    "    color\n",
    "    rugido::AbstractString\n",
    "end"
   ]
  },
  {
   "cell_type": "markdown",
   "metadata": {},
   "source": [
    "Se pueden definir más constructores para tus tipos de datos.\n",
    "Como en otros lenguajes, solo debes de definir una función **con el mismo nombre que tu tipo** e invocar a un constructor ya existente."
   ]
  },
  {
   "cell_type": "code",
   "execution_count": 14,
   "metadata": {},
   "outputs": [
    {
     "data": {
      "text/plain": [
       "Leon(\"amarillo ocre\", \"Raaaawr\")"
      ]
     },
     "execution_count": 14,
     "metadata": {},
     "output_type": "execute_result"
    }
   ],
   "source": [
    "Leon(rugido::AbstractString) = Leon(\"amarillo ocre\",rugido)\n",
    "Leon(\"Raaaawr\")"
   ]
  },
  {
   "cell_type": "markdown",
   "metadata": {},
   "source": [
    "El anterior es un constructor externo, pues se definió afuera de la definición del tipo.\n",
    "\n",
    "También se pueden definir constructores **dentro de la definición del tipo**. Al hacerlo, el tipo de dato no contará con un constructor por defecto.\n",
    "\n",
    "Usar este tipo de constructores te da control sobre cómo se crean los tipos de datos.\n",
    ">Se recomienda usar constructores externos en lugar de internos."
   ]
  },
  {
   "cell_type": "code",
   "execution_count": 15,
   "metadata": {},
   "outputs": [],
   "source": [
    "struct Pantera <: Gato\n",
    "    colorDeOjos\n",
    "    Pantera() = new(\"Verde\")\n",
    "end"
   ]
  },
  {
   "cell_type": "code",
   "execution_count": 16,
   "metadata": {},
   "outputs": [
    {
     "data": {
      "text/plain": [
       "Pantera(\"Verde\")"
      ]
     },
     "execution_count": 16,
     "metadata": {},
     "output_type": "execute_result"
    }
   ],
   "source": [
    "tchalla = Pantera()"
   ]
  },
  {
   "cell_type": "code",
   "execution_count": 17,
   "metadata": {},
   "outputs": [
    {
     "data": {
      "text/plain": [
       "Pantera"
      ]
     },
     "execution_count": 17,
     "metadata": {},
     "output_type": "execute_result"
    }
   ],
   "source": [
    "typeof(tchalla)"
   ]
  },
  {
   "cell_type": "code",
   "execution_count": 19,
   "metadata": {},
   "outputs": [
    {
     "data": {
      "text/plain": [
       "Gato"
      ]
     },
     "execution_count": 19,
     "metadata": {},
     "output_type": "execute_result"
    }
   ],
   "source": [
    "supertype(typeof(tchalla))"
   ]
  }
 ],
 "metadata": {
  "kernelspec": {
   "display_name": "Julia 1.6.5",
   "language": "julia",
   "name": "julia-1.6"
  },
  "language_info": {
   "file_extension": ".jl",
   "mimetype": "application/julia",
   "name": "julia",
   "version": "1.6.5"
  },
  "orig_nbformat": 4
 },
 "nbformat": 4,
 "nbformat_minor": 2
}
