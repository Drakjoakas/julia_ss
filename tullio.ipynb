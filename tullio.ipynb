{
 "cells": [
  {
   "cell_type": "code",
   "execution_count": 6,
   "metadata": {},
   "outputs": [
    {
     "name": "stderr",
     "output_type": "stream",
     "text": [
      "\u001b[32m\u001b[1m   Resolving\u001b[22m\u001b[39m package versions...\n"
     ]
    },
    {
     "name": "stderr",
     "output_type": "stream",
     "text": [
      "\u001b[32m\u001b[1m   Installed\u001b[22m\u001b[39m DiffRules ─ v1.11.0\n"
     ]
    },
    {
     "name": "stderr",
     "output_type": "stream",
     "text": [
      "\u001b[32m\u001b[1m   Installed\u001b[22m\u001b[39m Tullio ──── v0.3.4\n"
     ]
    },
    {
     "name": "stderr",
     "output_type": "stream",
     "text": [
      "\u001b[32m\u001b[1m    Updating\u001b[22m\u001b[39m `~/.julia/environments/v1.6/Project.toml`\n",
      " \u001b[90m [bc48ee85] \u001b[39m"
     ]
    },
    {
     "name": "stderr",
     "output_type": "stream",
     "text": [
      "\u001b[92m+ Tullio v0.3.4\u001b[39m\n",
      "\u001b[32m\u001b[1m    Updating\u001b[22m\u001b[39m `~/.julia/environments/v1.6/Manifest.toml`\n",
      " \u001b[90m [b552c78f] \u001b[39m\u001b[92m+ DiffRules v1.11.0\u001b[39m\n",
      " \u001b[90m [bc48ee85] \u001b[39m\u001b[92m+ Tullio v0.3.4\u001b[39m\n"
     ]
    },
    {
     "name": "stderr",
     "output_type": "stream",
     "text": [
      "\u001b[32m\u001b[1mPrecompiling\u001b[22m\u001b[39m "
     ]
    },
    {
     "name": "stderr",
     "output_type": "stream",
     "text": [
      "project...\n"
     ]
    },
    {
     "name": "stderr",
     "output_type": "stream",
     "text": [
      "\u001b[32m  ✓ \u001b[39m\u001b[90mDiffRules\u001b[39m\n"
     ]
    },
    {
     "name": "stderr",
     "output_type": "stream",
     "text": [
      "\u001b[32m  ✓ \u001b[39mTullio\n"
     ]
    },
    {
     "name": "stderr",
     "output_type": "stream",
     "text": [
      "  2 dependencies successfully precompiled in 11 seconds (157 already precompiled)\n"
     ]
    }
   ],
   "source": [
    "import Pkg\n",
    "Pkg.add(\"Tullio\")"
   ]
  },
  {
   "cell_type": "markdown",
   "metadata": {},
   "source": [
    "# Tullio.jl\n",
    "\n",
    "El paquete `Tullio` permite escribir de manera sencilla y legible operaciones con arreglos sin tener que usar más de una línea o escribir varios ciclos for anidados.\n",
    "\n",
    "Para utilizarlo solo es necesario agregar la biblioteca al espacio de trabajo y utilizar la macro `@tullio` seguido de la sentencia a ejecutar.\n",
    "\n",
    "Esto permite escribir **sumas de Einstein** en programas de julia. El macro escribe ciclos anidados si se usa de la manera más sencilla. Sin embargo, es capaz de parsear muchas expresiones más e inferir los rangos de los índices.\n",
    "\n",
    "Otra característica importante es que utiliza **hilos múltiples** (usando `Threads.@spawn`) y _tiling_ recursivo en arreglos suficientemente grandes. También puede trabajar en conjunto con otros paquetes en caso de encontrarse cargados antes de que se llame a la macro:\n",
    "\n",
    "- Utiliza `LoopVectorization.@avx` para acelerar algunas cosas. Puede llegar a igualar el rendimiento de `OpenBLAS` en multiplicación de matrices.\n",
    "- Utiliza `KernelAbstractions.@kernel` (y CUDAKernels) para crear una versión ejecutable en GPU. Esta función es experimental y puede no siempre ser rápida.\n",
    "\n",
    "La sintaxis es sencilla. Todo lo que se encuentra a la derecha del igual (= o :=) se suma en todos los posibles rangos de cualquier índice que no aparezca a la izquierda.\n",
    "\n",
    "Operadores de Pipe `|>` o `<|` indican funciones que se deben realizar fuera de la suma.\n",
    "\n",
    "A continuación mostraremos algunos ejemplos para entender mejor cómo funciona este paquete."
   ]
  },
  {
   "cell_type": "code",
   "execution_count": 9,
   "metadata": {},
   "outputs": [],
   "source": [
    "using Tullio, Test"
   ]
  },
  {
   "cell_type": "code",
   "execution_count": 8,
   "metadata": {},
   "outputs": [
    {
     "data": {
      "text/plain": [
       "3×7 Matrix{Int64}:\n",
       " 14  12  12   2  20  18  13\n",
       "  1   8  14  17  19   4   3\n",
       " 12   6  20  18  15   7  10"
      ]
     },
     "metadata": {},
     "output_type": "display_data"
    }
   ],
   "source": [
    "M = rand(1:20, 3,7)"
   ]
  },
  {
   "cell_type": "code",
   "execution_count": 10,
   "metadata": {},
   "outputs": [
    {
     "data": {
      "text/plain": [
       "1×7 Matrix{Int64}:\n",
       " 27  26  46  37  54  29  26"
      ]
     },
     "metadata": {},
     "output_type": "display_data"
    }
   ],
   "source": [
    "#Se suma de r ϵ 1:3 , por cada c ϵ 1:7\n",
    "@tullio S[1,c] := M[r,c]"
   ]
  },
  {
   "cell_type": "markdown",
   "metadata": {},
   "source": [
    "El código de arriba sería equivalente al siguiente ciclo anidado. Cabe destacar que el símbolo `:=` le indica a Tullio que se creará un nuevo arreglo a partir del resultado de la opración. En caso de haber `=` solamente, se escribe el resultado sobre un arreglo ya existente."
   ]
  },
  {
   "cell_type": "code",
   "execution_count": 14,
   "metadata": {},
   "outputs": [
    {
     "data": {
      "text/plain": [
       "\u001b[32m\u001b[1mTest Passed\u001b[22m\u001b[39m"
      ]
     },
     "metadata": {},
     "output_type": "display_data"
    }
   ],
   "source": [
    "S2 = zeros(1,7)\n",
    "for c = 1:7\n",
    "    for r =1:3\n",
    "        S2[1,c] += M[r,c]\n",
    "    end\n",
    "end\n",
    "\n",
    "@test S == S2"
   ]
  },
  {
   "cell_type": "markdown",
   "metadata": {},
   "source": [
    "De la misma manera, hay funciones que simplifican la operación anterior. Sin embargo, Tullio puede hacer muchas cosas más complejas, con más rangos, que terminarían siendo muy enredadas e ilegibles si se escribieran con solamente ciclos anidados o usando el broadcasting integrado de Julia."
   ]
  },
  {
   "cell_type": "code",
   "execution_count": 17,
   "metadata": {},
   "outputs": [
    {
     "data": {
      "text/plain": [
       "\u001b[32m\u001b[1mTest Passed\u001b[22m\u001b[39m"
      ]
     },
     "metadata": {},
     "output_type": "display_data"
    }
   ],
   "source": [
    "@tullio Q[p,c] := M[p,c] + sqrt(S[1,c])\n",
    "@test Q ≈ M .+ sqrt.(S)"
   ]
  },
  {
   "cell_type": "code",
   "execution_count": 19,
   "metadata": {},
   "outputs": [
    {
     "data": {
      "text/plain": [
       "\u001b[32m\u001b[1mTest Passed\u001b[22m\u001b[39m"
      ]
     },
     "metadata": {},
     "output_type": "display_data"
    }
   ],
   "source": [
    "mult(M,Q) = @tullio P[x,y] := M[x,c] * Q[y,c]\n",
    "@test mult(M,Q) ≈ M * transpose(Q)"
   ]
  },
  {
   "cell_type": "markdown",
   "metadata": {},
   "source": [
    "## Operaciones avanzadas con índices"
   ]
  },
  {
   "cell_type": "markdown",
   "metadata": {},
   "source": [
    "Además de solo escribir los índices y dejar que Tullio los infiera, es posible realizar muchas más operaciones variando los índices para obtener resultados más complicados. \n",
    "\n",
    "Por ejemplo, el intercambio de índices o su escalamiento también está permitido."
   ]
  },
  {
   "cell_type": "code",
   "execution_count": 20,
   "metadata": {},
   "outputs": [
    {
     "data": {
      "text/plain": [
       "5-element Vector{Matrix{Int8}}:\n",
       " [3 -47 108 -17; 53 126 6 -73; 73 21 49 -85]\n",
       " [3 -120 -41 -108; -128 -18 105 -74; -53 -36 113 -83]\n",
       " [60 70 69 57; -48 -3 -107 -38; 23 66 -45 44]\n",
       " [-13 60 69 100; -63 -125 -28 -5; -97 -101 44 -64]\n",
       " [80 121 41 12; 77 -28 -105 96; 113 -36 -49 86]"
      ]
     },
     "metadata": {},
     "output_type": "display_data"
    }
   ],
   "source": [
    "R = [rand(Int8, 3, 4) for d in 1:5]\n"
   ]
  },
  {
   "cell_type": "code",
   "execution_count": 24,
   "metadata": {},
   "outputs": [
    {
     "data": {
      "text/plain": [
       "\u001b[32m\u001b[1mTest Passed\u001b[22m\u001b[39m"
      ]
     },
     "metadata": {},
     "output_type": "display_data"
    }
   ],
   "source": [
    "@tullio T[j,i,δ] := R[δ][i,j] + 10im \n",
    "@test T == permutedims(cat(R...; dims=3),(2,1,3)) .+ 10im"
   ]
  },
  {
   "cell_type": "markdown",
   "metadata": {},
   "source": [
    "La expresión anterior reescribe una matriz cambiando las dimensiones y suma el número 10i a cada elemento. Como se puede apreciar en el test, es mucho más legible la sentencia escrita con Tullio que si quisiéramos hacerlo con funciones nativas de Julia.\n",
    "\n",
    "Si quisieras utilizar una variable como escalar , es necesario escribirla con un signo de dolar, como `$a` o `A[i, $Y]`."
   ]
  },
  {
   "cell_type": "code",
   "execution_count": 29,
   "metadata": {},
   "outputs": [
    {
     "data": {
      "text/plain": [
       "1×7 Matrix{Int64}:\n",
       " 3  10  16  19  21  6  5"
      ]
     },
     "metadata": {},
     "output_type": "display_data"
    }
   ],
   "source": [
    "a = 2;\n",
    "@tullio S3[1,c] := M[$a,c] + $a"
   ]
  },
  {
   "cell_type": "markdown",
   "metadata": {},
   "source": [
    "De la misma manera, se pueden indicar los rangos por los que debe iterar tullio para que éste no los infiera. Los rangos se indican al final de la sentencia entre paréntesis."
   ]
  },
  {
   "cell_type": "code",
   "execution_count": 44,
   "metadata": {},
   "outputs": [
    {
     "data": {
      "text/plain": [
       "7×15 Matrix{Int64}:\n",
       " 10  9  8  7  6  5  4  3  2  1  0  1  2  3   4\n",
       "  9  8  7  6  5  4  3  2  1  0  1  2  3  4   5\n",
       "  8  7  6  5  4  3  2  1  0  1  2  3  4  5   6\n",
       "  7  6  5  4  3  2  1  0  1  2  3  4  5  6   7\n",
       "  6  5  4  3  2  1  0  1  2  3  4  5  6  7   8\n",
       "  5  4  3  2  1  0  1  2  3  4  5  6  7  8   9\n",
       "  4  3  2  1  0  1  2  3  4  5  6  7  8  9  10"
      ]
     },
     "metadata": {},
     "output_type": "display_data"
    }
   ],
   "source": [
    "A = [abs(i-11) for i in 1:21]\n",
    "\n",
    "@tullio M[i,j] := A[i+j-1] (j in 1:15) # i en 1:7\n",
    "@tullio M[i+_,j] := A[i+j] (j in 1:15) # i en 0:6 con shift automático \"i+_ "
   ]
  },
  {
   "cell_type": "markdown",
   "metadata": {},
   "source": [
    "Además de realizar sumas, Tullio también es capaz de realizar otro tipo de operaciones. Por ejemplo, puede realizar **multiplicaciones** en lugar de sumas si agregas `(*)` después del macro `@tullio`."
   ]
  },
  {
   "cell_type": "code",
   "execution_count": 48,
   "metadata": {},
   "outputs": [
    {
     "data": {
      "text/plain": [
       "1×7 Matrix{Int64}:\n",
       " 36  1890  240  1120  728  304  612"
      ]
     },
     "metadata": {},
     "output_type": "display_data"
    }
   ],
   "source": [
    "C = rand(1:20, 3,7)\n",
    "@tullio (*) E[1,i] := C[j,i]"
   ]
  },
  {
   "cell_type": "markdown",
   "metadata": {},
   "source": [
    "De igual manera, puedes usar cualquier función de reducción para ejecutar otro tipo de operación. Por ejemplo:"
   ]
  },
  {
   "cell_type": "code",
   "execution_count": 25,
   "metadata": {},
   "outputs": [
    {
     "data": {
      "text/plain": [
       "3-element Vector{Float64}:\n",
       " 121.41251994749142\n",
       " 128.39003076563228\n",
       " 113.44161493913951"
      ]
     },
     "metadata": {},
     "output_type": "display_data"
    }
   ],
   "source": [
    "@tullio (max) X[i] := abs(T[j,i,δ])"
   ]
  },
  {
   "cell_type": "markdown",
   "metadata": {},
   "source": [
    "## Integración con OffsetArrays.jl\n",
    "\n",
    "Tullio puede soportar operaciones en conjunto con el paquete `OffsetArrays.jl`, el cual nos permite trabajar con arreglos cuyos índices son arbitrarios y definidos por el usuario, función que se encuentra en lenguajes como Fortran.\n",
    "\n",
    "Si quisiéramos utilizar un `OffsetArray` con Tullio, éste puede inferir los índices de la misma manera en que lo haría con un arreglo normal."
   ]
  },
  {
   "cell_type": "code",
   "execution_count": 52,
   "metadata": {},
   "outputs": [
    {
     "data": {
      "text/plain": [
       "5-element OffsetArray(::Vector{Int64}, -2:2) with eltype Int64 with indices -2:2:\n",
       "  1\n",
       " -1\n",
       "  2\n",
       " -1\n",
       "  1"
      ]
     },
     "metadata": {},
     "output_type": "display_data"
    }
   ],
   "source": [
    "using OffsetArrays\n",
    "\n",
    "K = OffsetArray([1,-1,2,-1,1], -2:2)"
   ]
  },
  {
   "cell_type": "code",
   "execution_count": 57,
   "metadata": {},
   "outputs": [
    {
     "data": {
      "text/plain": [
       "17-element OffsetArray(::Vector{Int64}, 3:19) with eltype Int64 with indices 3:19:\n",
       " 16\n",
       " 14\n",
       " 12\n",
       " 10\n",
       "  8\n",
       "  6\n",
       "  4\n",
       "  4\n",
       "  2\n",
       "  4\n",
       "  4\n",
       "  6\n",
       "  8\n",
       " 10\n",
       " 12\n",
       " 14\n",
       " 16"
      ]
     },
     "metadata": {},
     "output_type": "display_data"
    }
   ],
   "source": [
    "@tullio C[i] := A[i+j] * K[j] # j ϵ -2:2 implica que i ϵ 3:19\n"
   ]
  },
  {
   "cell_type": "code",
   "execution_count": 58,
   "metadata": {},
   "outputs": [
    {
     "data": {
      "text/plain": [
       "15×5 OffsetArray(::Matrix{Int64}, 3:17, -2:2) with eltype Int64 with indices 3:17×-2:2:\n",
       " 6  -10  2  -10  6\n",
       " 5   -9  1   -9  5\n",
       " 4   -8  1   -8  4\n",
       " 3   -7  0   -7  3\n",
       " 2   -6  0   -6  2\n",
       " 1   -5  0   -5  1\n",
       " 0   -4  1   -4  0\n",
       " 1   -3  1   -3  1\n",
       " 2   -2  2   -2  2\n",
       " 3   -1  2   -1  3\n",
       " 4    0  3    0  4\n",
       " 5   -1  3   -1  5\n",
       " 6   -2  4   -2  6\n",
       " 7   -3  4   -3  7\n",
       " 8   -4  5   -4  8"
      ]
     },
     "metadata": {},
     "output_type": "display_data"
    }
   ],
   "source": [
    "@tullio D[i,j] := A[2K[j] + i] ÷ K[j] #extrema(K) == (-1,2) implica i ϵ 3:17"
   ]
  },
  {
   "cell_type": "markdown",
   "metadata": {},
   "source": [
    "Incluso se puede usar la inferencia de índices multidimensionales y para acceder a miembros o arreglos en una tupla. Por ejemplo:"
   ]
  },
  {
   "cell_type": "code",
   "execution_count": 61,
   "metadata": {},
   "outputs": [
    {
     "data": {
      "text/plain": [
       "10×3 Matrix{Tuple{Rational{Int64}, Int64}}:\n",
       " (1//1, 1)      (1//1, 1)      (1//1, 1)\n",
       " (2//1, 8)      (2//1, 8)      (2//1, 8)\n",
       " (3//1, 27)     (3//1, 27)     (3//1, 27)\n",
       " (4//1, 64)     (4//1, 64)     (4//1, 64)\n",
       " (5//1, 125)    (5//1, 125)    (5//1, 125)\n",
       " (6//1, 216)    (6//1, 216)    (6//1, 216)\n",
       " (7//1, 343)    (7//1, 343)    (7//1, 343)\n",
       " (8//1, 512)    (8//1, 512)    (8//1, 512)\n",
       " (9//1, 729)    (9//1, 729)    (9//1, 729)\n",
       " (10//1, 1000)  (10//1, 1000)  (10//1, 1000)"
      ]
     },
     "metadata": {},
     "output_type": "display_data"
    }
   ],
   "source": [
    "# Este ejemplo utiliza j ϵ eachindex(first(N).c)\n",
    "N = [(a=i, b=i^2, c=fill(i^3,3)) for i in 1:10]\n",
    "@tullio T[i,j] := (N[i].a // 1, N[i].c[j])"
   ]
  },
  {
   "cell_type": "markdown",
   "metadata": {},
   "source": [
    "## Expresiones más grandes\n",
    "\n",
    "Aunque la simplicidad de Tullio recae en que queda todo señalado en una sola línea, no tiene que ser necesariamente siempre así. Por ejemplo:\n",
    "@tullio out[x,y] := @inbounds(begin\n",
    "    \n",
    ")"
   ]
  },
  {
   "cell_type": "code",
   "execution_count": 63,
   "metadata": {},
   "outputs": [
    {
     "data": {
      "text/plain": [
       "10×10×1 Array{Int64, 3}:\n",
       "[:, :, 1] =\n",
       " 33   50  33  16   9  0  0  0   9  16\n",
       " 50  101  50  20  10  0  0  0  10  20\n",
       " 33   50  33  16   9  0  0  0   9  16\n",
       " 16   20  16  11   7  0  0  0   7  11\n",
       "  9   10   9   7   5  0  0  0   5   7\n",
       "  0    0   0   0   0  0  0  0   0   0\n",
       "  0    0   0   0   0  0  0  0   0   0\n",
       "  0    0   0   0   0  0  0  0   0   0\n",
       "  9   10   9   7   5  0  0  0   5   7\n",
       " 16   20  16  11   7  0  0  0   7  12"
      ]
     },
     "metadata": {},
     "output_type": "display_data"
    }
   ],
   "source": [
    "using Tullio, OffsetArrays\n",
    "\n",
    "mat = zeros(10,10,1); mat[2,2] = 101; mat[10,10] = 1;\n",
    "\n",
    "@tullio kern[i,j] := 1/(1+i^2+j^2) (i in -3:3, j in -3:3)\n",
    "\n",
    "@tullio out[x,y,c] := begin\n",
    "    xi = mod(x+i, axes(mat,1)) #xi = ... significa que no será sumado\n",
    "\n",
    "    @inbounds trunc(Int, mat[xi, mod(y+j),c] * kern[i,j])\n",
    "end (x in 1:10, y in 1:10)"
   ]
  },
  {
   "cell_type": "code",
   "execution_count": 65,
   "metadata": {},
   "outputs": [
    {
     "data": {
      "text/plain": [
       "10×10×1 Array{Int64, 3}:\n",
       "[:, :, 1] =\n",
       " 1010  1010  1010  1010  0  0  0   0   0   0\n",
       "    0  1010  1010  1010  0  0  0   0   0   0\n",
       "    0     0  1010  1010  0  0  0   0   0   0\n",
       "    0     0     0  1010  0  0  0   0   0   0\n",
       "    0     0     0     0  0  0  0   0   0   0\n",
       "    0     0     0     0  0  0  0   0   0   0\n",
       "    0     0     0     0  0  0  0   0   0   0\n",
       "    0     0     0     0  0  0  0  10  20  30\n",
       "    0     0     0     0  0  0  0  10  30  50\n",
       "    0     0     0     0  0  0  0  10  30  60"
      ]
     },
     "metadata": {},
     "output_type": "display_data"
    }
   ],
   "source": [
    "offsets = [(a,b) for a in -2:2 for b in -2:2 if a>=b]\n",
    "\n",
    "@tullio out[x,y,1] = begin\n",
    "    a,b = offsets[k]\n",
    "    i = clamp(x+a, extrema(axes(mat,1))...)\n",
    "    @inbounds mat[i, clamp(y+b, extrema(axes(mat,2))...),1] * 10\n",
    "end"
   ]
  },
  {
   "cell_type": "markdown",
   "metadata": {},
   "source": [
    "## Opciones en Tullio\n",
    "\n",
    "La configuración por defecto es `@tullio threads=true fastmath=true avx=true cuda=256 grad=Base verbose=false`.\n",
    "\n",
    "Cada opción hace lo siguiente:\n",
    "\n",
    "- `threads=false` apaga el uso de hilos, mientras que `threads=64^3` es un límite en el cual se divide el trabajo (reemplazando la inferencia hecha por la macro).\n",
    "\n",
    "- `avx=false` apaga el uso de `LoopVectorization`, mientras que `avx=4` inserta `@avx unroll=4 for i in ...`\n",
    "\n",
    "- `grad=false` apaga el cálculo de gradiente; `grad=Dual` lo cambia para usar `ForwardDiff` (el cual debe estar cargado).\n",
    "\n",
    "- `nograd=A` apaga el cálculo de gradiente solo para `A`. Si se quisiera apagar para más elementos, se indican como una tupla (ex. (A, B, C)).\n",
    "\n",
    "- `tensor=false` apaga el uso de `TensorOperations`.\n",
    "\n",
    "- `verbose=true`imprime cosas como los rangos de índices inferidos, cálculos de gradients. `verbose=2` imprime **todo**.\n",
    "\n",
    "- `A[i,j] := ... ` crea un nuevo arreglo, mientras que `A[i,j] = ...` y `A[i,j] +=...` escriben sobre un arreglo existente.\n",
    "\n",
    "- `init=0.0` indica el valor inicial para reducciones. Para +, *, min, max, &, | tiene valores por defecto sensibles. Para otras reducciones, utiliza cero.\n",
    "\n",
    "### Opciones Implícitas\n",
    "\n",
    "- Índices sin desplazamientos tienen el mismo rango en donde aparezcan, pero aquellos con desplazamientos corren en la intersección de los posibles rangos.\n",
    "\n",
    "- Los índices desplazados de salida deben empezar en 1, a menos que se encuentre el módulo `OffsetArrays` .\n",
    "\n",
    "- El uso de `@avx` y el cálculo de gradientes se desactiva con sintaxis suficientemente compleja (como arreglos de arreglos).\n",
    "\n",
    "- Los gradientes sólo están definidos con reducciones sobre (+), min y max.\n",
    "\n",
    "- Solo se construyen Kernels de GPU cuando tanto `KernelAbstractions` y `CUDA` son visibles. Por defecto se envía `cuda=256` como `kernel(CUDA(), 256)`.\n",
    "\n",
    "- Los kernels de CPU de `KernelAbstractions` sólo se llaman cuando `thrads=false`. Actualmente no son muy rápidos, pero puede ser usado como pruebas si es necesario."
   ]
  },
  {
   "cell_type": "markdown",
   "metadata": {},
   "source": [
    "### Referencias\n",
    "\n",
    "Para más referencias, lea la [documentación oficial](https://github.com/mcabbott/Tullio.jl/blob/master/README.md) en GitHub o en [juliaHub](https://docs.juliahub.com/Tullio/PIgzC/0.1.1/autodocs/)."
   ]
  }
 ],
 "metadata": {
  "kernelspec": {
   "display_name": "Julia 1.6.2",
   "language": "julia",
   "name": "julia-1.6"
  },
  "language_info": {
   "file_extension": ".jl",
   "mimetype": "application/julia",
   "name": "julia",
   "version": "1.6.2"
  },
  "orig_nbformat": 4
 },
 "nbformat": 4,
 "nbformat_minor": 2
}
